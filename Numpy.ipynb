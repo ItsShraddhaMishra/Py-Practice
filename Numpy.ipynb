{
 "cells": [
  {
   "cell_type": "markdown",
   "id": "3435bbfd",
   "metadata": {},
   "source": [
    "* Python Library for working with arrays\n",
    "* Applications: Linear algebra, fourier transform, matrices\n",
    "* NumericalPython\n",
    "* The array object is called ndarray.\n"
   ]
  },
  {
   "cell_type": "markdown",
   "id": "d1dcd305",
   "metadata": {},
   "source": [
    "### Benefits\n",
    "\n",
    "* 50x faster than traditional python lists.\n",
    "\n",
    "* NumPy arrays are stored at one continuous place in memory unlike lists. Easy access>> Faster Processing\n",
    "* Written partly in python , mainly in c/c++"
   ]
  },
  {
   "cell_type": "code",
   "execution_count": null,
   "id": "84e77a8f",
   "metadata": {},
   "outputs": [],
   "source": []
  }
 ],
 "metadata": {
  "kernelspec": {
   "display_name": "Python 3 (ipykernel)",
   "language": "python",
   "name": "python3"
  },
  "language_info": {
   "codemirror_mode": {
    "name": "ipython",
    "version": 3
   },
   "file_extension": ".py",
   "mimetype": "text/x-python",
   "name": "python",
   "nbconvert_exporter": "python",
   "pygments_lexer": "ipython3",
   "version": "3.7.11"
  }
 },
 "nbformat": 4,
 "nbformat_minor": 5
}
