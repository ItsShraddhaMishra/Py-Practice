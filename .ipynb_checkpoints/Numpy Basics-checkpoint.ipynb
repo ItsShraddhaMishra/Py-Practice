{
 "cells": [
  {
   "cell_type": "markdown",
   "id": "1aa81421",
   "metadata": {},
   "source": [
    "* Python Library for working with arrays\n",
    "* Applications: Linear algebra, fourier transform, matrices\n",
    "* NumericalPython\n",
    "* The array object is called ndarray.\n"
   ]
  },
  {
   "cell_type": "markdown",
   "id": "78f0ee80",
   "metadata": {},
   "source": [
    "### Benefits\n",
    "\n",
    "* 50x faster than traditional python lists.\n",
    "\n",
    "* NumPy arrays are stored at one continuous place in memory unlike lists. Easy access>> Faster Processing\n",
    "* Written partly in python , mainly in c/c++"
   ]
  },
  {
   "cell_type": "code",
   "execution_count": 3,
   "id": "4f742385",
   "metadata": {},
   "outputs": [],
   "source": [
    "import numpy as np"
   ]
  },
  {
   "cell_type": "markdown",
   "id": "71f9db49",
   "metadata": {},
   "source": [
    "###### 1D Arrays "
   ]
  },
  {
   "cell_type": "code",
   "execution_count": 4,
   "id": "f6de0402",
   "metadata": {},
   "outputs": [
    {
     "name": "stdout",
     "output_type": "stream",
     "text": [
      "[1 2 3 4]\n"
     ]
    }
   ],
   "source": [
    "a = np.array([1, 2, 3, 4])\n",
    "print(a)"
   ]
  },
  {
   "cell_type": "markdown",
   "id": "92124e3b",
   "metadata": {},
   "source": [
    "###### 2D Arrays"
   ]
  },
  {
   "cell_type": "code",
   "execution_count": 5,
   "id": "7f4b6032",
   "metadata": {},
   "outputs": [
    {
     "name": "stdout",
     "output_type": "stream",
     "text": [
      "[[1 2 3]\n",
      " [4 5 6]]\n"
     ]
    }
   ],
   "source": [
    "b = np.array([[1, 2, 3], [4, 5, 6]])\n",
    "print(b)"
   ]
  },
  {
   "cell_type": "markdown",
   "id": "abdbeb35",
   "metadata": {},
   "source": [
    "###### 3D Arrays "
   ]
  },
  {
   "cell_type": "code",
   "execution_count": 6,
   "id": "21ccb1eb",
   "metadata": {},
   "outputs": [
    {
     "name": "stdout",
     "output_type": "stream",
     "text": [
      "[[[1 2 3]\n",
      "  [4 5 6]]\n",
      "\n",
      " [[1 2 3]\n",
      "  [4 5 6]]]\n"
     ]
    }
   ],
   "source": [
    "c = np.array([[[1,2,3], [4,5,6]],[[1,2,3], [4,5,6]]])\n",
    "print(c)"
   ]
  },
  {
   "cell_type": "code",
   "execution_count": 7,
   "id": "ac145840",
   "metadata": {},
   "outputs": [
    {
     "name": "stdout",
     "output_type": "stream",
     "text": [
      "3\n"
     ]
    }
   ],
   "source": [
    "print(c.ndim)"
   ]
  },
  {
   "cell_type": "markdown",
   "id": "a5d377f7",
   "metadata": {},
   "source": [
    "###### NumPy Array Indexing"
   ]
  },
  {
   "cell_type": "code",
   "execution_count": 8,
   "id": "d205ce53",
   "metadata": {},
   "outputs": [
    {
     "name": "stdout",
     "output_type": "stream",
     "text": [
      "4\n"
     ]
    }
   ],
   "source": [
    "d = np.array([1, 2,3,4])\n",
    "print(d[3])"
   ]
  },
  {
   "cell_type": "code",
   "execution_count": 9,
   "id": "e8e56ce1",
   "metadata": {},
   "outputs": [
    {
     "name": "stdout",
     "output_type": "stream",
     "text": [
      "4\n"
     ]
    }
   ],
   "source": [
    "print(b[1,0])"
   ]
  },
  {
   "cell_type": "code",
   "execution_count": 10,
   "id": "70b7982a",
   "metadata": {},
   "outputs": [
    {
     "name": "stdout",
     "output_type": "stream",
     "text": [
      "5\n"
     ]
    }
   ],
   "source": [
    "print(c[0,1,1])"
   ]
  },
  {
   "cell_type": "markdown",
   "id": "28191716",
   "metadata": {},
   "source": [
    "###### Array slicing "
   ]
  },
  {
   "cell_type": "markdown",
   "id": "d8b9f3a7",
   "metadata": {},
   "source": [
    "* In Python, Slicing means taking elements from one given index to another given index.\n",
    "* [start:end]\n",
    "* [start:end:step]\n",
    "* default start index = 0\n",
    "* default end index = Length of array in that dimention\n",
    "* default step = 1"
   ]
  },
  {
   "cell_type": "code",
   "execution_count": 12,
   "id": "ab5cde4a",
   "metadata": {},
   "outputs": [
    {
     "name": "stdout",
     "output_type": "stream",
     "text": [
      "[1 2]\n"
     ]
    }
   ],
   "source": [
    "print(a[:2]) # Slice index from the start of the array"
   ]
  },
  {
   "cell_type": "code",
   "execution_count": 11,
   "id": "6e12d151",
   "metadata": {},
   "outputs": [
    {
     "name": "stdout",
     "output_type": "stream",
     "text": [
      "[3 4]\n"
     ]
    }
   ],
   "source": [
    "print(a[2:]) #Slice index from the end of the array"
   ]
  },
  {
   "cell_type": "markdown",
   "id": "c2fcc5ef",
   "metadata": {},
   "source": [
    "###### Negative slicing"
   ]
  },
  {
   "cell_type": "code",
   "execution_count": 13,
   "id": "39a23ab2",
   "metadata": {},
   "outputs": [
    {
     "name": "stdout",
     "output_type": "stream",
     "text": [
      "[3]\n"
     ]
    }
   ],
   "source": [
    "print(a[-2:-1])"
   ]
  },
  {
   "cell_type": "markdown",
   "id": "62336aec",
   "metadata": {},
   "source": [
    "###### Step Value in slicing"
   ]
  },
  {
   "cell_type": "code",
   "execution_count": 14,
   "id": "6214d442",
   "metadata": {},
   "outputs": [
    {
     "name": "stdout",
     "output_type": "stream",
     "text": [
      "[1 3]\n"
     ]
    }
   ],
   "source": [
    "print(a[0:4:2])"
   ]
  },
  {
   "cell_type": "code",
   "execution_count": 16,
   "id": "3ada671d",
   "metadata": {},
   "outputs": [
    {
     "name": "stdout",
     "output_type": "stream",
     "text": [
      "[1 3]\n"
     ]
    }
   ],
   "source": [
    "print(a[::2]) #return every other element from the entire array"
   ]
  },
  {
   "cell_type": "markdown",
   "id": "acad4100",
   "metadata": {},
   "source": [
    "######  Slicing 2D Arrays"
   ]
  },
  {
   "cell_type": "code",
   "execution_count": 18,
   "id": "e78a7506",
   "metadata": {},
   "outputs": [
    {
     "name": "stdout",
     "output_type": "stream",
     "text": [
      "[4 5]\n"
     ]
    }
   ],
   "source": [
    "print(b[1, :2]) # from the second element, slice from the beginning index 0, 1 (Excluding index2)"
   ]
  },
  {
   "cell_type": "code",
   "execution_count": 22,
   "id": "a7b89bb6",
   "metadata": {},
   "outputs": [
    {
     "name": "stdout",
     "output_type": "stream",
     "text": [
      "[[4 5 6]\n",
      " [4 5 6]]\n"
     ]
    }
   ],
   "source": [
    "print(c[0:2, 1]) #from  elements 0, 1,2 return index 1"
   ]
  },
  {
   "cell_type": "markdown",
   "id": "3478c3f1",
   "metadata": {},
   "source": [
    "### Data Types In Numpy "
   ]
  },
  {
   "cell_type": "markdown",
   "id": "97208c86",
   "metadata": {},
   "source": [
    "* i = integer\n",
    "* b = boolean\n",
    "* u = unsigned integer\n",
    "* f = float\n",
    "* c = complex float\n",
    "* m = timedelta\n",
    "* M = datatime\n",
    "* O = object\n",
    "* S = sting\n",
    "* U = unicode string\n",
    "* V = fixed chunk of memory for other type(void)"
   ]
  },
  {
   "cell_type": "code",
   "execution_count": 24,
   "id": "b2131bc7",
   "metadata": {},
   "outputs": [
    {
     "name": "stdout",
     "output_type": "stream",
     "text": [
      "int64\n"
     ]
    }
   ],
   "source": [
    "print(c.dtype)"
   ]
  },
  {
   "cell_type": "markdown",
   "id": "0d7976a7",
   "metadata": {},
   "source": [
    "###### Defining Data type of array "
   ]
  },
  {
   "cell_type": "markdown",
   "id": "a8a5cead",
   "metadata": {},
   "source": [
    "ValueError is raise when the type of passed argument to a function is unexpected/incorrect"
   ]
  },
  {
   "cell_type": "code",
   "execution_count": 25,
   "id": "8a5e731b",
   "metadata": {},
   "outputs": [],
   "source": [
    "e = np.array([1, 2, 3, 4], dtype = 'S')"
   ]
  },
  {
   "cell_type": "code",
   "execution_count": 28,
   "id": "9578d19f",
   "metadata": {},
   "outputs": [
    {
     "name": "stdout",
     "output_type": "stream",
     "text": [
      "[b'1' b'2' b'3' b'4']\n",
      "|S1\n"
     ]
    }
   ],
   "source": [
    "print(e)\n",
    "print(e.dtype)"
   ]
  },
  {
   "cell_type": "markdown",
   "id": "e6957bff",
   "metadata": {},
   "source": [
    "##### Converting Data type on Existing Arrays "
   ]
  },
  {
   "cell_type": "markdown",
   "id": "ae526acc",
   "metadata": {},
   "source": [
    "* Make a copy of the subject array with astype() method.\n",
    "* astype() creats copy of the array and allows to specify the data type as a parameter.\n"
   ]
  },
  {
   "cell_type": "code",
   "execution_count": 35,
   "id": "70a61218",
   "metadata": {},
   "outputs": [
    {
     "name": "stdout",
     "output_type": "stream",
     "text": [
      "[1 2 3 4 5]\n",
      "int32\n"
     ]
    }
   ],
   "source": [
    "f = np.array([1.1, 2.1, 3.1, 4.1, 5.1])\n",
    "fc = f.astype('i') #int will also work\n",
    "print(fc)\n",
    "print(fc.dtype)"
   ]
  },
  {
   "cell_type": "markdown",
   "id": "514e29f7",
   "metadata": {},
   "source": [
    "#### Difference between Copy and view "
   ]
  },
  {
   "cell_type": "markdown",
   "id": "159c8356",
   "metadata": {},
   "source": [
    "* copy is a new array | view is view of original array\n",
    "* Copy owns the data and any changes mad to the copy will not affect original array and vice versa.\n",
    "* View doesn't own the data and any changes made to the view will affect the original array and vice versa.\n"
   ]
  },
  {
   "cell_type": "code",
   "execution_count": 34,
   "id": "ca2dd855",
   "metadata": {},
   "outputs": [
    {
     "name": "stdout",
     "output_type": "stream",
     "text": [
      "[1.1 2.1 3.1 4.1 5.1]\n",
      "[42.   2.1  3.1  4.1  5.1]\n"
     ]
    }
   ],
   "source": [
    "g = f.copy() #Saving the original array\n",
    "f[0] = 42 #making changes in original array\n",
    "\n",
    "print(g) # the original array is showed without change\n",
    "print(f) # The original array is changed and saved in its original place"
   ]
  },
  {
   "cell_type": "code",
   "execution_count": 37,
   "id": "e3a48276",
   "metadata": {},
   "outputs": [
    {
     "name": "stdout",
     "output_type": "stream",
     "text": [
      "[12.   2.1  3.1  4.1  5.1]\n",
      "[12.   2.1  3.1  4.1  5.1]\n"
     ]
    }
   ],
   "source": [
    "h = f.view() # peeped whats in original array\n",
    "f[0] = 12 # made change in original array\n",
    "\n",
    "print(f) # The original array with changes\n",
    "print(h) # the method view is still peeping and telling whats in original array now"
   ]
  },
  {
   "cell_type": "markdown",
   "id": "a275c037",
   "metadata": {},
   "source": [
    "###### Check if array owns its data "
   ]
  },
  {
   "cell_type": "code",
   "execution_count": 38,
   "id": "ba073269",
   "metadata": {},
   "outputs": [
    {
     "name": "stdout",
     "output_type": "stream",
     "text": [
      "None\n",
      "[12.   2.1  3.1  4.1  5.1]\n",
      "None\n"
     ]
    }
   ],
   "source": [
    "print(f.base)\n",
    "print(h.base)\n",
    "print(g.base)"
   ]
  },
  {
   "cell_type": "markdown",
   "id": "4ebcb0e0",
   "metadata": {},
   "source": [
    "#### Array Shape"
   ]
  },
  {
   "cell_type": "markdown",
   "id": "1b4a63b8",
   "metadata": {},
   "source": [
    "Shape of array is number of elements in each dimention"
   ]
  },
  {
   "cell_type": "code",
   "execution_count": 39,
   "id": "a61873ac",
   "metadata": {},
   "outputs": [
    {
     "name": "stdout",
     "output_type": "stream",
     "text": [
      "(5,)\n"
     ]
    }
   ],
   "source": [
    "print(f.shape)"
   ]
  },
  {
   "cell_type": "code",
   "execution_count": 41,
   "id": "1c4db2df",
   "metadata": {},
   "outputs": [
    {
     "name": "stdout",
     "output_type": "stream",
     "text": [
      "(2, 2, 3)\n"
     ]
    }
   ],
   "source": [
    "print(c.shape) #this array is 2X2 with 3 elements in each"
   ]
  },
  {
   "cell_type": "markdown",
   "id": "79f416a4",
   "metadata": {},
   "source": [
    "###### Array Reshaping\n"
   ]
  },
  {
   "cell_type": "markdown",
   "id": "f16582e2",
   "metadata": {},
   "source": [
    "* Reshaping the shape of an array.\n",
    "* The shape of an array is the number of elements in each dimention.\n",
    "* By reshaping , we can remove dimentions or change number of elements in each dimention."
   ]
  },
  {
   "cell_type": "markdown",
   "id": "a8261051",
   "metadata": {},
   "source": [
    "###### 1D TO 2D"
   ]
  },
  {
   "cell_type": "code",
   "execution_count": 43,
   "id": "0c70be74",
   "metadata": {},
   "outputs": [
    {
     "name": "stdout",
     "output_type": "stream",
     "text": [
      "[[ 1  2  3]\n",
      " [ 4  5  6]\n",
      " [ 7  8  9]\n",
      " [10 12 13]]\n"
     ]
    }
   ],
   "source": [
    "i = np.array([1,2,3,4,5,6,7,8,9,10,12,13])\n",
    "iresh= i.reshape(4, 3) # 4 arrays with 3 elements each\n",
    "print(iresh)"
   ]
  },
  {
   "cell_type": "markdown",
   "id": "e022af11",
   "metadata": {},
   "source": [
    "###### 1D TO 3D"
   ]
  },
  {
   "cell_type": "code",
   "execution_count": 44,
   "id": "237b7eef",
   "metadata": {},
   "outputs": [
    {
     "name": "stdout",
     "output_type": "stream",
     "text": [
      "[[[ 1  2]\n",
      "  [ 3  4]\n",
      "  [ 5  6]]\n",
      "\n",
      " [[ 7  8]\n",
      "  [ 9 10]\n",
      "  [12 13]]]\n"
     ]
    }
   ],
   "source": [
    "iresh3d = i.reshape(2,3,2) #12= (2x2)x : 2 rows, 2 columns and 3 channels\n",
    "print(iresh3d) #contains 2 arraysm 3 arrays each with 2 elements"
   ]
  },
  {
   "cell_type": "markdown",
   "id": "3fb177ed",
   "metadata": {},
   "source": [
    "* An array can be reshaped in any shape, provided the elements required for reshaping are equal in both shapes.\n",
    "* EXAMPLE: 1D array of 8 elememts can be reshaped in 2 row- 2D array.\n",
    "__=>__ but not with 3 elements 3 rows 2D array as it require 3x3=9 elements"
   ]
  },
  {
   "cell_type": "code",
   "execution_count": 45,
   "id": "3d75d8e3",
   "metadata": {},
   "outputs": [
    {
     "name": "stdout",
     "output_type": "stream",
     "text": [
      "[ 1  2  3  4  5  6  7  8  9 10 12 13]\n"
     ]
    }
   ],
   "source": [
    "print(iresh3d.base)"
   ]
  },
  {
   "cell_type": "markdown",
   "id": "c5337787",
   "metadata": {},
   "source": [
    "The reshape array is a view array"
   ]
  },
  {
   "cell_type": "markdown",
   "id": "aba136a6",
   "metadata": {},
   "source": [
    "### Unknown Dimention "
   ]
  },
  {
   "cell_type": "markdown",
   "id": "a30aa8e4",
   "metadata": {},
   "source": [
    "* Numpy can calculate the dimention for exact number for one of the dimentions in the reshape method.\n",
    "* Pass -1 as argument"
   ]
  },
  {
   "cell_type": "code",
   "execution_count": 49,
   "id": "50afcc54",
   "metadata": {},
   "outputs": [
    {
     "name": "stdout",
     "output_type": "stream",
     "text": [
      "[[[ 1  2]\n",
      "  [ 3  4]\n",
      "  [ 5  6]]\n",
      "\n",
      " [[ 7  8]\n",
      "  [ 9 10]\n",
      "  [12 13]]]\n"
     ]
    }
   ],
   "source": [
    "j = i.reshape(2,3,-1) #gives 2 arrays with 3 rows each\n",
    "print(j)"
   ]
  },
  {
   "cell_type": "markdown",
   "id": "77643d2a",
   "metadata": {},
   "source": [
    "###### Flattening the arrays "
   ]
  },
  {
   "cell_type": "markdown",
   "id": "4353ff30",
   "metadata": {},
   "source": [
    "* Flattening array corresponds to coverting N-dimentional array into 1D.\n",
    "* used reshape(-1)"
   ]
  },
  {
   "cell_type": "code",
   "execution_count": 51,
   "id": "c458ca89",
   "metadata": {},
   "outputs": [
    {
     "name": "stdout",
     "output_type": "stream",
     "text": [
      "[ 1  2  3  4  5  6  7  8  9 10 12 13]\n"
     ]
    }
   ],
   "source": [
    "l= j.reshape(-1)\n",
    "print(l)"
   ]
  },
  {
   "cell_type": "markdown",
   "id": "248191a8",
   "metadata": {},
   "source": [
    "Iterating Arrays"
   ]
  },
  {
   "cell_type": "markdown",
   "id": "7314e962",
   "metadata": {},
   "source": [
    "* Going through elements one by one.\n",
    "* use for loop\n",
    "* if we iterate o a N-D array , it will go through N-1th dimention one by one."
   ]
  },
  {
   "cell_type": "code",
   "execution_count": 53,
   "id": "9c420646",
   "metadata": {},
   "outputs": [
    {
     "name": "stdout",
     "output_type": "stream",
     "text": [
      "[[1 2]\n",
      " [3 4]\n",
      " [5 6]]\n",
      "[[ 7  8]\n",
      " [ 9 10]\n",
      " [12 13]]\n"
     ]
    }
   ],
   "source": [
    "for x in j:\n",
    "    print(x) #in 2D array, it goes through the rows"
   ]
  },
  {
   "cell_type": "code",
   "execution_count": 54,
   "id": "48513790",
   "metadata": {},
   "outputs": [
    {
     "name": "stdout",
     "output_type": "stream",
     "text": [
      "1\n",
      "2\n",
      "3\n",
      "4\n",
      "5\n",
      "6\n",
      "7\n",
      "8\n",
      "9\n",
      "10\n",
      "12\n",
      "13\n"
     ]
    }
   ],
   "source": [
    "for x in l:\n",
    "    print(x) "
   ]
  },
  {
   "cell_type": "markdown",
   "id": "7166ae9f",
   "metadata": {},
   "source": [
    "#### Iterating 3D Arrays "
   ]
  },
  {
   "cell_type": "markdown",
   "id": "48f1bc42",
   "metadata": {},
   "source": [
    "* In a 3D array it will go through all the 2D arrays."
   ]
  },
  {
   "cell_type": "code",
   "execution_count": 55,
   "id": "0d50ebcb",
   "metadata": {},
   "outputs": [
    {
     "name": "stdout",
     "output_type": "stream",
     "text": [
      "[[1 2 3]\n",
      " [4 5 6]]\n",
      "[[ 7  8  9]\n",
      " [10 11 12]]\n"
     ]
    }
   ],
   "source": [
    "k = np.array([[[1,2,3],[4,5,6]], [[7,8,9], [10,11,12]]])\n",
    "for x in k:\n",
    "    print(x)"
   ]
  },
  {
   "cell_type": "markdown",
   "id": "251862f6",
   "metadata": {},
   "source": [
    "### nditer() : advanced iteration method "
   ]
  },
  {
   "cell_type": "markdown",
   "id": "7bbe1932",
   "metadata": {},
   "source": []
  }
 ],
 "metadata": {
  "kernelspec": {
   "display_name": "Python 3 (ipykernel)",
   "language": "python",
   "name": "python3"
  },
  "language_info": {
   "codemirror_mode": {
    "name": "ipython",
    "version": 3
   },
   "file_extension": ".py",
   "mimetype": "text/x-python",
   "name": "python",
   "nbconvert_exporter": "python",
   "pygments_lexer": "ipython3",
   "version": "3.7.11"
  }
 },
 "nbformat": 4,
 "nbformat_minor": 5
}
