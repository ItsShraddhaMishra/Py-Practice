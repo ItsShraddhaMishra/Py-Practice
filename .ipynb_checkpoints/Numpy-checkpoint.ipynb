{
 "cells": [
  {
   "cell_type": "markdown",
   "id": "c512c17b",
   "metadata": {},
   "source": [
    "* Python Library for working with arrays\n",
    "* Applications: Linear algebra, fourier transform, matrices\n",
    "* NumericalPython\n",
    "* The array object is called ndarray.\n"
   ]
  },
  {
   "cell_type": "markdown",
   "id": "6647e549",
   "metadata": {},
   "source": [
    "### Benefits\n",
    "\n",
    "* 50x faster than traditional python lists.\n",
    "\n",
    "* NumPy arrays are stored at one continuous place in memory unlike lists. Easy access>> Faster Processing\n",
    "* Written partly in python , mainly in c/c++"
   ]
  },
  {
   "cell_type": "code",
   "execution_count": 1,
   "id": "fcfed8f6",
   "metadata": {},
   "outputs": [],
   "source": [
    "import numpy as np"
   ]
  },
  {
   "cell_type": "markdown",
   "id": "0b2d497e",
   "metadata": {},
   "source": [
    "###### 1D Arrays "
   ]
  },
  {
   "cell_type": "code",
   "execution_count": 2,
   "id": "206f85cf",
   "metadata": {},
   "outputs": [
    {
     "name": "stdout",
     "output_type": "stream",
     "text": [
      "[1 2 3 4]\n"
     ]
    }
   ],
   "source": [
    "a = np.array([1, 2, 3, 4])\n",
    "print(a)"
   ]
  },
  {
   "cell_type": "markdown",
   "id": "59dd9c17",
   "metadata": {},
   "source": [
    "###### 2D Arrays"
   ]
  },
  {
   "cell_type": "code",
   "execution_count": 5,
   "id": "4ccda114",
   "metadata": {},
   "outputs": [
    {
     "name": "stdout",
     "output_type": "stream",
     "text": [
      "[[1 2 3]\n",
      " [4 5 6]]\n"
     ]
    }
   ],
   "source": [
    "b = np.array([[1, 2, 3], [4, 5, 6]])\n",
    "print(b)"
   ]
  },
  {
   "cell_type": "markdown",
   "id": "cdc5a2f8",
   "metadata": {},
   "source": [
    "###### 3D Arrays "
   ]
  },
  {
   "cell_type": "code",
   "execution_count": 7,
   "id": "ded2a8d0",
   "metadata": {},
   "outputs": [
    {
     "name": "stdout",
     "output_type": "stream",
     "text": [
      "[[[1 2 3]\n",
      "  [4 5 6]]\n",
      "\n",
      " [[1 2 3]\n",
      "  [4 5 6]]]\n"
     ]
    }
   ],
   "source": [
    "c = np.array([[[1,2,3], [4,5,6]],[[1,2,3], [4,5,6]]])\n",
    "print(c)"
   ]
  },
  {
   "cell_type": "code",
   "execution_count": 8,
   "id": "b21fd3cb",
   "metadata": {},
   "outputs": [
    {
     "name": "stdout",
     "output_type": "stream",
     "text": [
      "3\n"
     ]
    }
   ],
   "source": [
    "print(c.ndim)"
   ]
  },
  {
   "cell_type": "code",
   "execution_count": null,
   "id": "84d53094",
   "metadata": {},
   "outputs": [],
   "source": []
  }
 ],
 "metadata": {
  "kernelspec": {
   "display_name": "Python 3 (ipykernel)",
   "language": "python",
   "name": "python3"
  },
  "language_info": {
   "codemirror_mode": {
    "name": "ipython",
    "version": 3
   },
   "file_extension": ".py",
   "mimetype": "text/x-python",
   "name": "python",
   "nbconvert_exporter": "python",
   "pygments_lexer": "ipython3",
   "version": "3.7.11"
  }
 },
 "nbformat": 4,
 "nbformat_minor": 5
}
