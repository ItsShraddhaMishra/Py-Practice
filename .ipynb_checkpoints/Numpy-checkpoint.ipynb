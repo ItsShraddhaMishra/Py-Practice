{
 "cells": [
  {
   "cell_type": "markdown",
   "id": "1aa81421",
   "metadata": {},
   "source": [
    "* Python Library for working with arrays\n",
    "* Applications: Linear algebra, fourier transform, matrices\n",
    "* NumericalPython\n",
    "* The array object is called ndarray.\n"
   ]
  },
  {
   "cell_type": "markdown",
   "id": "78f0ee80",
   "metadata": {},
   "source": [
    "### Benefits\n",
    "\n",
    "* 50x faster than traditional python lists.\n",
    "\n",
    "* NumPy arrays are stored at one continuous place in memory unlike lists. Easy access>> Faster Processing\n",
    "* Written partly in python , mainly in c/c++"
   ]
  },
  {
   "cell_type": "code",
   "execution_count": 1,
   "id": "4f742385",
   "metadata": {},
   "outputs": [],
   "source": [
    "import numpy as np"
   ]
  },
  {
   "cell_type": "markdown",
   "id": "71f9db49",
   "metadata": {},
   "source": [
    "###### 1D Arrays "
   ]
  },
  {
   "cell_type": "code",
   "execution_count": 2,
   "id": "f6de0402",
   "metadata": {},
   "outputs": [
    {
     "name": "stdout",
     "output_type": "stream",
     "text": [
      "[1 2 3 4]\n"
     ]
    }
   ],
   "source": [
    "a = np.array([1, 2, 3, 4])\n",
    "print(a)"
   ]
  },
  {
   "cell_type": "markdown",
   "id": "92124e3b",
   "metadata": {},
   "source": [
    "###### 2D Arrays"
   ]
  },
  {
   "cell_type": "code",
   "execution_count": 5,
   "id": "7f4b6032",
   "metadata": {},
   "outputs": [
    {
     "name": "stdout",
     "output_type": "stream",
     "text": [
      "[[1 2 3]\n",
      " [4 5 6]]\n"
     ]
    }
   ],
   "source": [
    "b = np.array([[1, 2, 3], [4, 5, 6]])\n",
    "print(b)"
   ]
  },
  {
   "cell_type": "markdown",
   "id": "abdbeb35",
   "metadata": {},
   "source": [
    "###### 3D Arrays "
   ]
  },
  {
   "cell_type": "code",
   "execution_count": 7,
   "id": "21ccb1eb",
   "metadata": {},
   "outputs": [
    {
     "name": "stdout",
     "output_type": "stream",
     "text": [
      "[[[1 2 3]\n",
      "  [4 5 6]]\n",
      "\n",
      " [[1 2 3]\n",
      "  [4 5 6]]]\n"
     ]
    }
   ],
   "source": [
    "c = np.array([[[1,2,3], [4,5,6]],[[1,2,3], [4,5,6]]])\n",
    "print(c)"
   ]
  },
  {
   "cell_type": "code",
   "execution_count": 8,
   "id": "ac145840",
   "metadata": {},
   "outputs": [
    {
     "name": "stdout",
     "output_type": "stream",
     "text": [
      "3\n"
     ]
    }
   ],
   "source": [
    "print(c.ndim)"
   ]
  },
  {
   "cell_type": "markdown",
   "id": "a5d377f7",
   "metadata": {},
   "source": [
    "###### NumPy Array Indexing"
   ]
  },
  {
   "cell_type": "code",
   "execution_count": 9,
   "id": "d205ce53",
   "metadata": {},
   "outputs": [
    {
     "name": "stdout",
     "output_type": "stream",
     "text": [
      "4\n"
     ]
    }
   ],
   "source": [
    "d = np.array([1, 2,3,4])\n",
    "print(d[3])"
   ]
  },
  {
   "cell_type": "code",
   "execution_count": 10,
   "id": "e8e56ce1",
   "metadata": {},
   "outputs": [
    {
     "name": "stdout",
     "output_type": "stream",
     "text": [
      "4\n"
     ]
    }
   ],
   "source": [
    "print(b[1,0])"
   ]
  },
  {
   "cell_type": "code",
   "execution_count": 12,
   "id": "70b7982a",
   "metadata": {},
   "outputs": [
    {
     "name": "stdout",
     "output_type": "stream",
     "text": [
      "5\n"
     ]
    }
   ],
   "source": [
    "print(c[0,1,1])"
   ]
  },
  {
   "cell_type": "code",
   "execution_count": null,
   "id": "b12a9b75",
   "metadata": {},
   "outputs": [],
   "source": []
  }
 ],
 "metadata": {
  "kernelspec": {
   "display_name": "Python 3 (ipykernel)",
   "language": "python",
   "name": "python3"
  },
  "language_info": {
   "codemirror_mode": {
    "name": "ipython",
    "version": 3
   },
   "file_extension": ".py",
   "mimetype": "text/x-python",
   "name": "python",
   "nbconvert_exporter": "python",
   "pygments_lexer": "ipython3",
   "version": "3.7.11"
  }
 },
 "nbformat": 4,
 "nbformat_minor": 5
}
