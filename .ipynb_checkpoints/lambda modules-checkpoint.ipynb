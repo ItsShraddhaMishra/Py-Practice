{
 "cells": [
  {
   "cell_type": "markdown",
   "id": "f8f57f83",
   "metadata": {},
   "source": [
    "### lambda"
   ]
  },
  {
   "cell_type": "code",
   "execution_count": 1,
   "id": "443c09ae",
   "metadata": {},
   "outputs": [],
   "source": [
    "x =lambda a: a+ 10"
   ]
  },
  {
   "cell_type": "code",
   "execution_count": 2,
   "id": "29388b23",
   "metadata": {},
   "outputs": [
    {
     "name": "stdout",
     "output_type": "stream",
     "text": [
      "15\n"
     ]
    }
   ],
   "source": [
    "print(x(5))"
   ]
  },
  {
   "cell_type": "code",
   "execution_count": 4,
   "id": "487fb2e5",
   "metadata": {},
   "outputs": [],
   "source": [
    "x= lambda a, b: a*b"
   ]
  },
  {
   "cell_type": "code",
   "execution_count": 5,
   "id": "3f53ad60",
   "metadata": {},
   "outputs": [
    {
     "name": "stdout",
     "output_type": "stream",
     "text": [
      "30\n"
     ]
    }
   ],
   "source": [
    "print(x(5,6))"
   ]
  },
  {
   "cell_type": "code",
   "execution_count": 6,
   "id": "7b9c03b1",
   "metadata": {},
   "outputs": [
    {
     "name": "stdout",
     "output_type": "stream",
     "text": [
      "13\n"
     ]
    }
   ],
   "source": [
    "x = lambda a,b,c: a+b+c\n",
    "print(x(5,6,2))"
   ]
  },
  {
   "cell_type": "markdown",
   "id": "fd39dbef",
   "metadata": {},
   "source": [
    "#####  Why we use lambda functions?"
   ]
  },
  {
   "cell_type": "markdown",
   "id": "6b167234",
   "metadata": {},
   "source": [
    "the power of lambda is better utilized as an anonymous function inside another function.\n"
   ]
  },
  {
   "cell_type": "code",
   "execution_count": 7,
   "id": "0ef8544a",
   "metadata": {},
   "outputs": [],
   "source": [
    "def power(n):\n",
    "    return lambda a: a^n\n"
   ]
  },
  {
   "cell_type": "code",
   "execution_count": 9,
   "id": "580f0578",
   "metadata": {},
   "outputs": [
    {
     "name": "stdout",
     "output_type": "stream",
     "text": [
      "15\n"
     ]
    }
   ],
   "source": [
    "w =power(3)\n",
    "print(w(12))"
   ]
  },
  {
   "cell_type": "markdown",
   "id": "d8c65a5a",
   "metadata": {},
   "source": [
    "### Inheritance "
   ]
  },
  {
   "cell_type": "code",
   "execution_count": 2,
   "id": "5feda30c",
   "metadata": {},
   "outputs": [
    {
     "name": "stdout",
     "output_type": "stream",
     "text": [
      "John Doe\n"
     ]
    }
   ],
   "source": [
    "#Parent class\n",
    "class Person:\n",
    "    def __init__(self, fname, lname):\n",
    "        self.firstname = fname\n",
    "        self.lastname = lname\n",
    "        \n",
    "    def printname(self):               #its aka method\n",
    "        print(self.firstname, self.lastname)\n",
    "\n",
    "# using parent class to create an object and then printing method\n",
    "\n",
    "x= Person(\"John\", \"Doe\")\n",
    "x.printname()"
   ]
  },
  {
   "cell_type": "code",
   "execution_count": 3,
   "id": "f1864a72",
   "metadata": {},
   "outputs": [
    {
     "name": "stdout",
     "output_type": "stream",
     "text": [
      "Shraddha Mishra\n"
     ]
    }
   ],
   "source": [
    "#child class\n",
    "class Student(Person):\n",
    "    pass\n",
    "\n",
    "x = Student(\"Shraddha\", \"Mishra\")\n",
    "x.printname()"
   ]
  },
  {
   "cell_type": "markdown",
   "id": "a7810aeb",
   "metadata": {},
   "source": [
    "###### Adding  __init__()  class\n"
   ]
  },
  {
   "cell_type": "code",
   "execution_count": 5,
   "id": "2ca299b8",
   "metadata": {},
   "outputs": [],
   "source": [
    "class Student(Person):\n",
    "    def __init__(self, fname, lname):\n",
    "        #add properties etc.\n",
    "        person,__init__(self, fname, lname)"
   ]
  },
  {
   "cell_type": "markdown",
   "id": "2e9b2124",
   "metadata": {},
   "source": [
    "whe we add __init__() function , the child class no longer inherits parent's __init__() function"
   ]
  },
  {
   "cell_type": "markdown",
   "id": "bc2dcf4f",
   "metadata": {},
   "source": [
    "However, super() function makes the child class inherit all the methods and properties from its parent"
   ]
  },
  {
   "cell_type": "code",
   "execution_count": 6,
   "id": "2f2c9788",
   "metadata": {},
   "outputs": [],
   "source": [
    "class Student(Person):\n",
    "    def __init__(self, fname, lname):\n",
    "        super(),__init__(fname, lname)"
   ]
  },
  {
   "cell_type": "markdown",
   "id": "c25d9f3e",
   "metadata": {},
   "source": [
    "##### Adding Properties "
   ]
  },
  {
   "cell_type": "code",
   "execution_count": 7,
   "id": "5f1e246d",
   "metadata": {},
   "outputs": [],
   "source": [
    "class Student(Person):\n",
    "    def __init__(self, fname, lname):\n",
    "        super().__init__(fname, lname)\n",
    "        self.graduationyear = 2022"
   ]
  },
  {
   "cell_type": "markdown",
   "id": "7a5b90dc",
   "metadata": {},
   "source": [
    "##### Adding Methods"
   ]
  },
  {
   "cell_type": "code",
   "execution_count": 8,
   "id": "ed8c3ab8",
   "metadata": {},
   "outputs": [],
   "source": [
    "class Student(Person):\n",
    "    def __init__(self, fname, lname, year):\n",
    "        super().__init__(fname, lname)\n",
    "        self.graduationyear = year\n",
    "        \n",
    "    def welcome(self):\n",
    "        print(\"Welcome\", self.firstname, self.lastname, \"To the class of\", self.graduationyear)"
   ]
  },
  {
   "cell_type": "markdown",
   "id": "506dd9c8",
   "metadata": {},
   "source": [
    "## Iterators "
   ]
  },
  {
   "cell_type": "markdown",
   "id": "88feca3a",
   "metadata": {},
   "source": [
    "* an iterator is an object that contatins a countable number of values\n",
    "* An iterator is an object that can be iterated upon, meaning that you can traverse through all the values.\n",
    "* Technically, in Python, an iterator is an object which implements the iterator protocol, consits of method __iter() and __next__()"
   ]
  },
  {
   "cell_type": "code",
   "execution_count": 9,
   "id": "68bbf066",
   "metadata": {},
   "outputs": [
    {
     "name": "stdout",
     "output_type": "stream",
     "text": [
      "banana\n"
     ]
    }
   ],
   "source": [
    "fruittuple = (\"banana\", \"apple\" , \"strawberry\" , \"mango\")\n",
    "itr = iter(fruittuple)\n",
    "\n",
    "print (next(itr))"
   ]
  },
  {
   "cell_type": "code",
   "execution_count": 10,
   "id": "656875f6",
   "metadata": {},
   "outputs": [
    {
     "name": "stdout",
     "output_type": "stream",
     "text": [
      "apple\n"
     ]
    }
   ],
   "source": [
    "print (next(itr))\n"
   ]
  },
  {
   "cell_type": "code",
   "execution_count": 11,
   "id": "79dfb25e",
   "metadata": {},
   "outputs": [
    {
     "name": "stdout",
     "output_type": "stream",
     "text": [
      "strawberry\n"
     ]
    }
   ],
   "source": [
    "print (next(itr))"
   ]
  },
  {
   "cell_type": "markdown",
   "id": "77e8fe77",
   "metadata": {},
   "source": [
    "iter function comes with pair of next"
   ]
  },
  {
   "cell_type": "markdown",
   "id": "b15fe773",
   "metadata": {},
   "source": [
    "#####  Looping through the iterator"
   ]
  },
  {
   "cell_type": "code",
   "execution_count": 12,
   "id": "37972fed",
   "metadata": {},
   "outputs": [
    {
     "name": "stdout",
     "output_type": "stream",
     "text": [
      "banana\n",
      "apple\n",
      "strawberry\n",
      "mango\n"
     ]
    }
   ],
   "source": [
    "for x in fruittuple:\n",
    "    print(x)"
   ]
  },
  {
   "cell_type": "markdown",
   "id": "2137b1e4",
   "metadata": {},
   "source": [
    "#### Python Try Except "
   ]
  },
  {
   "cell_type": "markdown",
   "id": "f90b7c66",
   "metadata": {},
   "source": [
    "* the try block lets you test a block for errors.\n",
    "* the except block lets you handle the error.\n",
    "* the finally block lets you execute code, regardless of the result of the try and exept blocks"
   ]
  },
  {
   "cell_type": "markdown",
   "id": "5cdaaa67",
   "metadata": {},
   "source": [
    "##### exception handling"
   ]
  },
  {
   "cell_type": "code",
   "execution_count": 1,
   "id": "d53697fe",
   "metadata": {},
   "outputs": [
    {
     "name": "stdout",
     "output_type": "stream",
     "text": [
      "An exception occured\n"
     ]
    }
   ],
   "source": [
    "try:\n",
    "    print(x) #we havent defined x\n",
    "except:\n",
    "    print(\"An exception occured\")"
   ]
  },
  {
   "cell_type": "markdown",
   "id": "14f004f7",
   "metadata": {},
   "source": [
    "###### Many Exceptions"
   ]
  },
  {
   "cell_type": "markdown",
   "id": "cf3616db",
   "metadata": {},
   "source": [
    "You can define as many exception blocks as you want , e.g., if you want to execute a special block of code for a special kind of error"
   ]
  },
  {
   "cell_type": "code",
   "execution_count": 3,
   "id": "ede91435",
   "metadata": {},
   "outputs": [
    {
     "name": "stdout",
     "output_type": "stream",
     "text": [
      "Variable x is not defined\n"
     ]
    }
   ],
   "source": [
    "try:\n",
    "    print(x)\n",
    "except NameError:\n",
    "    print(\"Variable x is not defined\")\n",
    "except:\n",
    "    print(\"kuch aur hi chakkar hai\")"
   ]
  },
  {
   "cell_type": "markdown",
   "id": "c04cbfc1",
   "metadata": {},
   "source": [
    "###### Else"
   ]
  },
  {
   "cell_type": "code",
   "execution_count": 4,
   "id": "803a6c7c",
   "metadata": {},
   "outputs": [
    {
     "name": "stdout",
     "output_type": "stream",
     "text": [
      "Hello\n",
      "Nothing went wrong\n"
     ]
    }
   ],
   "source": [
    "try:\n",
    "    print(\"Hello\")\n",
    "except:\n",
    "    print(\"Something went wrong\")\n",
    "else:\n",
    "    print(\"Nothing went wrong\")"
   ]
  },
  {
   "cell_type": "markdown",
   "id": "0ebf0568",
   "metadata": {},
   "source": [
    "### User Input "
   ]
  },
  {
   "cell_type": "code",
   "execution_count": 6,
   "id": "dc434d6f",
   "metadata": {},
   "outputs": [
    {
     "name": "stdout",
     "output_type": "stream",
     "text": [
      "Enter username:Shraddha\n",
      "Username is:Shraddha\n"
     ]
    }
   ],
   "source": [
    "username = input(\"Enter username:\")\n",
    "print(\"Username is:\" + username)"
   ]
  },
  {
   "cell_type": "markdown",
   "id": "e4381017",
   "metadata": {},
   "source": [
    "### String format() "
   ]
  },
  {
   "cell_type": "code",
   "execution_count": 7,
   "id": "f476e0bd",
   "metadata": {},
   "outputs": [
    {
     "name": "stdout",
     "output_type": "stream",
     "text": [
      "the yearly tuition is 1400 dollars\n"
     ]
    }
   ],
   "source": [
    "price = 1400\n",
    "tuition = \"the yearly tuition is {} dollars\"\n",
    "print(tuition.format(price))"
   ]
  },
  {
   "cell_type": "markdown",
   "id": "47810633",
   "metadata": {},
   "source": [
    "###### You can add parameters inside the curly brackets to specify how to convert the value"
   ]
  },
  {
   "cell_type": "code",
   "execution_count": 13,
   "id": "af4ef4e9",
   "metadata": {},
   "outputs": [
    {
     "name": "stdout",
     "output_type": "stream",
     "text": [
      "the price is 1400.00 chf\n"
     ]
    }
   ],
   "source": [
    "convert = \"the price is {:.2f} chf\"\n",
    "print(convert.format(price))"
   ]
  },
  {
   "cell_type": "code",
   "execution_count": 14,
   "id": "3718e648",
   "metadata": {},
   "outputs": [
    {
     "name": "stdout",
     "output_type": "stream",
     "text": [
      "I want 3 pieces of item number 3454 for 43234.00 dollars\n"
     ]
    }
   ],
   "source": [
    "quantity = 3\n",
    "item = 3454\n",
    "price = 43234\n",
    "myorder = \"I want {} pieces of item number {} for {:.2f} dollars\"\n",
    "print(myorder.format(quantity, item, price))"
   ]
  },
  {
   "cell_type": "code",
   "execution_count": null,
   "id": "cbabea94",
   "metadata": {},
   "outputs": [],
   "source": []
  }
 ],
 "metadata": {
  "kernelspec": {
   "display_name": "Python 3 (ipykernel)",
   "language": "python",
   "name": "python3"
  },
  "language_info": {
   "codemirror_mode": {
    "name": "ipython",
    "version": 3
   },
   "file_extension": ".py",
   "mimetype": "text/x-python",
   "name": "python",
   "nbconvert_exporter": "python",
   "pygments_lexer": "ipython3",
   "version": "3.7.11"
  }
 },
 "nbformat": 4,
 "nbformat_minor": 5
}
