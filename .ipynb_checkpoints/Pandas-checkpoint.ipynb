{
 "cells": [
  {
   "cell_type": "markdown",
   "id": "f1907bbb",
   "metadata": {},
   "source": [
    "* Pandas is used for working with data sets.\n",
    "* for Analyzing, cleaning, exploring and manipulating data\n",
    "* it allows user to analyse big data and make conclusions based on statistical theories.\n",
    "* can clean messy datasets, make them readable and relevant.\n",
    "* can help sort relevant data\n"
   ]
  },
  {
   "cell_type": "code",
   "execution_count": 6,
   "id": "e6fe8ac8",
   "metadata": {},
   "outputs": [],
   "source": [
    "import pandas as pd"
   ]
  },
  {
   "cell_type": "code",
   "execution_count": 7,
   "id": "ae956d44",
   "metadata": {},
   "outputs": [
    {
     "name": "stdout",
     "output_type": "stream",
     "text": [
      "    cars  passings\n",
      "0    BMW         3\n",
      "1  Volvo         7\n",
      "2   Ford         2\n"
     ]
    }
   ],
   "source": [
    "mydataset = {\n",
    "    'cars': [\"BMW\", \"Volvo\", \"Ford\"],\n",
    "    'passings': [3, 7, 2]\n",
    "}\n",
    "\n",
    "myvar = pd.DataFrame(mydataset)\n",
    "print(myvar)"
   ]
  },
  {
   "cell_type": "markdown",
   "id": "f66586d7",
   "metadata": {},
   "source": [
    "##### Series"
   ]
  },
  {
   "cell_type": "markdown",
   "id": "d637e7a6",
   "metadata": {},
   "source": [
    "Pandas Series is like a column in a Table.\n",
    "it is a one-dimentional array holding data of any type."
   ]
  },
  {
   "cell_type": "code",
   "execution_count": 8,
   "id": "59e28ce8",
   "metadata": {},
   "outputs": [
    {
     "name": "stdout",
     "output_type": "stream",
     "text": [
      "0    1\n",
      "1    7\n",
      "2    2\n",
      "dtype: int64\n"
     ]
    }
   ],
   "source": [
    "a = [1, 7, 2]\n",
    "myvar = pd.Series(a)\n",
    "print(myvar)"
   ]
  },
  {
   "cell_type": "markdown",
   "id": "23187925",
   "metadata": {},
   "source": [
    "##### Labels"
   ]
  },
  {
   "cell_type": "code",
   "execution_count": 12,
   "id": "396b9881",
   "metadata": {},
   "outputs": [
    {
     "name": "stdout",
     "output_type": "stream",
     "text": [
      "Me                                              1\n",
      "Years of Education                              7\n",
      "Me+Successful, Handsome, Loyal, Rich Husband    2\n",
      "dtype: int64\n"
     ]
    }
   ],
   "source": [
    "myvar = pd.Series(a, index = [\"Me\", \"Years of Education\", \"Me+Successful, Handsome, Loyal, Rich Husband\"])\n",
    "print(myvar)"
   ]
  },
  {
   "cell_type": "code",
   "execution_count": 13,
   "id": "fbb4837c",
   "metadata": {},
   "outputs": [
    {
     "name": "stdout",
     "output_type": "stream",
     "text": [
      "7\n"
     ]
    }
   ],
   "source": [
    "print(myvar[\"Years of Education\"])"
   ]
  },
  {
   "cell_type": "markdown",
   "id": "7870aad2",
   "metadata": {},
   "source": [
    "##### Key/Value Objects as Series"
   ]
  },
  {
   "cell_type": "code",
   "execution_count": 18,
   "id": "41552081",
   "metadata": {},
   "outputs": [
    {
     "name": "stdout",
     "output_type": "stream",
     "text": [
      "W1    [18]\n",
      "W2    [18]\n",
      "dtype: object\n"
     ]
    }
   ],
   "source": [
    "contri= {\"W1\":[18],\n",
    "        \"W2\": [18]}\n",
    "myvar = pd.Series(contri)\n",
    "print(myvar)"
   ]
  },
  {
   "cell_type": "markdown",
   "id": "b90b3102",
   "metadata": {},
   "source": [
    "Keys of the Dictionary become the Labels."
   ]
  },
  {
   "cell_type": "markdown",
   "id": "34379238",
   "metadata": {},
   "source": [
    "### DataFrames"
   ]
  },
  {
   "cell_type": "markdown",
   "id": "e3f0986b",
   "metadata": {},
   "source": [
    "* Data sets in Pandas are usually multi-dimentional tables aka DataFrames.\n",
    "* Series : Column; DataFrame: whole table\n",
    "* DF is 2D data structure, like a 2D array or a table with rows and columns."
   ]
  },
  {
   "cell_type": "code",
   "execution_count": 19,
   "id": "ec14eabc",
   "metadata": {},
   "outputs": [
    {
     "name": "stdout",
     "output_type": "stream",
     "text": [
      "   W1  W2\n",
      "0  18  18\n"
     ]
    }
   ],
   "source": [
    "df = pd.DataFrame(contri)\n",
    "print(df)"
   ]
  },
  {
   "cell_type": "markdown",
   "id": "bd0f5ae6",
   "metadata": {},
   "source": [
    "###### Named Index"
   ]
  },
  {
   "cell_type": "code",
   "execution_count": 41,
   "id": "692d1da4",
   "metadata": {},
   "outputs": [
    {
     "name": "stdout",
     "output_type": "stream",
     "text": [
      "        W1  W2\n",
      "#Hours  18  18\n"
     ]
    }
   ],
   "source": [
    "dfi = pd.DataFrame(contri, index = [\"#Hours\"])\n",
    "print(dfi)"
   ]
  },
  {
   "cell_type": "markdown",
   "id": "f18b2fe5",
   "metadata": {},
   "source": [
    "### Reading CSVs"
   ]
  },
  {
   "cell_type": "code",
   "execution_count": null,
   "id": "9fec38d4",
   "metadata": {},
   "outputs": [],
   "source": [
    "df = pd.read_csv('data.csv')\n",
    "print(df.to_string()) # to print entire dataframe"
   ]
  },
  {
   "cell_type": "markdown",
   "id": "6d11ad10",
   "metadata": {},
   "source": [
    "### Viewing the Data"
   ]
  },
  {
   "cell_type": "code",
   "execution_count": 24,
   "id": "e1b79c8f",
   "metadata": {},
   "outputs": [
    {
     "name": "stdout",
     "output_type": "stream",
     "text": [
      "   W1  W2\n",
      "0  18  18\n"
     ]
    }
   ],
   "source": [
    "print(df.head(1)) #returns first 1 row"
   ]
  },
  {
   "cell_type": "code",
   "execution_count": 25,
   "id": "f684d82c",
   "metadata": {},
   "outputs": [
    {
     "name": "stdout",
     "output_type": "stream",
     "text": [
      "   W1  W2\n",
      "0  18  18\n"
     ]
    }
   ],
   "source": [
    "print(df.tail(1)) # returns last 1 row"
   ]
  },
  {
   "cell_type": "markdown",
   "id": "ad56d98c",
   "metadata": {},
   "source": [
    "## Cleaning Data"
   ]
  },
  {
   "cell_type": "markdown",
   "id": "85424d0c",
   "metadata": {},
   "source": [
    "removing NA data"
   ]
  },
  {
   "cell_type": "code",
   "execution_count": 26,
   "id": "5fe072b3",
   "metadata": {},
   "outputs": [
    {
     "name": "stdout",
     "output_type": "stream",
     "text": [
      "   W1  W2\n",
      "0  18  18\n"
     ]
    }
   ],
   "source": [
    "new_df = df.dropna() #dropna returns new DF and will not change the original\n",
    "print(new_df.to_string())"
   ]
  },
  {
   "cell_type": "markdown",
   "id": "c05b234d",
   "metadata": {},
   "source": [
    "to change the original Dataframe , use inplace = True"
   ]
  },
  {
   "cell_type": "code",
   "execution_count": 27,
   "id": "af165039",
   "metadata": {},
   "outputs": [
    {
     "name": "stdout",
     "output_type": "stream",
     "text": [
      "   W1  W2\n",
      "0  18  18\n"
     ]
    }
   ],
   "source": [
    "df.dropna(inplace = True)\n",
    "print(df.to_string())"
   ]
  },
  {
   "cell_type": "markdown",
   "id": "c3bcc9a0",
   "metadata": {},
   "source": [
    "#### Replace Empty Values"
   ]
  },
  {
   "cell_type": "code",
   "execution_count": 28,
   "id": "3f573f02",
   "metadata": {},
   "outputs": [],
   "source": [
    "df.fillna(0.1, inplace = True)\n"
   ]
  },
  {
   "cell_type": "markdown",
   "id": "8cfab67a",
   "metadata": {},
   "source": [
    "###### Replace only for a specified Columns"
   ]
  },
  {
   "cell_type": "markdown",
   "id": "1e3662f3",
   "metadata": {},
   "source": [
    "* The example above replaces all empty cells in the whole Data Frame"
   ]
  },
  {
   "cell_type": "code",
   "execution_count": 29,
   "id": "1b9d7bed",
   "metadata": {},
   "outputs": [],
   "source": [
    "df[\"W1\"].fillna(12, inplace = True)"
   ]
  },
  {
   "cell_type": "markdown",
   "id": "f726f668",
   "metadata": {},
   "source": [
    "#### Removing Duplicates"
   ]
  },
  {
   "cell_type": "code",
   "execution_count": 30,
   "id": "aa64c8bc",
   "metadata": {},
   "outputs": [],
   "source": [
    "df.drop_duplicates(inplace = True)"
   ]
  },
  {
   "cell_type": "markdown",
   "id": "6da61979",
   "metadata": {},
   "source": [
    "### Data Correlations"
   ]
  },
  {
   "cell_type": "code",
   "execution_count": 31,
   "id": "9a122189",
   "metadata": {},
   "outputs": [
    {
     "name": "stdout",
     "output_type": "stream",
     "text": [
      "    W1  W2\n",
      "W1 NaN NaN\n",
      "W2 NaN NaN\n"
     ]
    }
   ],
   "source": [
    "print(new_df.corr())"
   ]
  },
  {
   "cell_type": "code",
   "execution_count": null,
   "id": "f6bda8b6",
   "metadata": {},
   "outputs": [],
   "source": []
  }
 ],
 "metadata": {
  "kernelspec": {
   "display_name": "Python 3 (ipykernel)",
   "language": "python",
   "name": "python3"
  },
  "language_info": {
   "codemirror_mode": {
    "name": "ipython",
    "version": 3
   },
   "file_extension": ".py",
   "mimetype": "text/x-python",
   "name": "python",
   "nbconvert_exporter": "python",
   "pygments_lexer": "ipython3",
   "version": "3.7.11"
  }
 },
 "nbformat": 4,
 "nbformat_minor": 5
}
