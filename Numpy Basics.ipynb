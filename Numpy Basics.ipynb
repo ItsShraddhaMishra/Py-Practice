{
 "cells": [
  {
   "cell_type": "markdown",
   "id": "1aa81421",
   "metadata": {},
   "source": [
    "* Python Library for working with arrays\n",
    "* Applications: Linear algebra, fourier transform, matrices\n",
    "* NumericalPython\n",
    "* The array object is called ndarray.\n"
   ]
  },
  {
   "cell_type": "markdown",
   "id": "78f0ee80",
   "metadata": {},
   "source": [
    "### Benefits\n",
    "\n",
    "* 50x faster than traditional python lists.\n",
    "\n",
    "* NumPy arrays are stored at one continuous place in memory unlike lists. Easy access>> Faster Processing\n",
    "* Written partly in python , mainly in c/c++"
   ]
  },
  {
   "cell_type": "code",
   "execution_count": 3,
   "id": "4f742385",
   "metadata": {},
   "outputs": [],
   "source": [
    "import numpy as np"
   ]
  },
  {
   "cell_type": "markdown",
   "id": "71f9db49",
   "metadata": {},
   "source": [
    "###### 1D Arrays "
   ]
  },
  {
   "cell_type": "code",
   "execution_count": 4,
   "id": "f6de0402",
   "metadata": {},
   "outputs": [
    {
     "name": "stdout",
     "output_type": "stream",
     "text": [
      "[1 2 3 4]\n"
     ]
    }
   ],
   "source": [
    "a = np.array([1, 2, 3, 4])\n",
    "print(a)"
   ]
  },
  {
   "cell_type": "markdown",
   "id": "92124e3b",
   "metadata": {},
   "source": [
    "###### 2D Arrays"
   ]
  },
  {
   "cell_type": "code",
   "execution_count": 5,
   "id": "7f4b6032",
   "metadata": {},
   "outputs": [
    {
     "name": "stdout",
     "output_type": "stream",
     "text": [
      "[[1 2 3]\n",
      " [4 5 6]]\n"
     ]
    }
   ],
   "source": [
    "b = np.array([[1, 2, 3], [4, 5, 6]])\n",
    "print(b)"
   ]
  },
  {
   "cell_type": "markdown",
   "id": "abdbeb35",
   "metadata": {},
   "source": [
    "###### 3D Arrays "
   ]
  },
  {
   "cell_type": "code",
   "execution_count": 6,
   "id": "21ccb1eb",
   "metadata": {},
   "outputs": [
    {
     "name": "stdout",
     "output_type": "stream",
     "text": [
      "[[[1 2 3]\n",
      "  [4 5 6]]\n",
      "\n",
      " [[1 2 3]\n",
      "  [4 5 6]]]\n"
     ]
    }
   ],
   "source": [
    "c = np.array([[[1,2,3], [4,5,6]],[[1,2,3], [4,5,6]]])\n",
    "print(c)"
   ]
  },
  {
   "cell_type": "code",
   "execution_count": 7,
   "id": "ac145840",
   "metadata": {},
   "outputs": [
    {
     "name": "stdout",
     "output_type": "stream",
     "text": [
      "3\n"
     ]
    }
   ],
   "source": [
    "print(c.ndim)"
   ]
  },
  {
   "cell_type": "markdown",
   "id": "a5d377f7",
   "metadata": {},
   "source": [
    "###### NumPy Array Indexing"
   ]
  },
  {
   "cell_type": "code",
   "execution_count": 8,
   "id": "d205ce53",
   "metadata": {},
   "outputs": [
    {
     "name": "stdout",
     "output_type": "stream",
     "text": [
      "4\n"
     ]
    }
   ],
   "source": [
    "d = np.array([1, 2,3,4])\n",
    "print(d[3])"
   ]
  },
  {
   "cell_type": "code",
   "execution_count": 9,
   "id": "e8e56ce1",
   "metadata": {},
   "outputs": [
    {
     "name": "stdout",
     "output_type": "stream",
     "text": [
      "4\n"
     ]
    }
   ],
   "source": [
    "print(b[1,0])"
   ]
  },
  {
   "cell_type": "code",
   "execution_count": 10,
   "id": "70b7982a",
   "metadata": {},
   "outputs": [
    {
     "name": "stdout",
     "output_type": "stream",
     "text": [
      "5\n"
     ]
    }
   ],
   "source": [
    "print(c[0,1,1])"
   ]
  },
  {
   "cell_type": "markdown",
   "id": "0170309d",
   "metadata": {},
   "source": [
    "###### Array slicing "
   ]
  },
  {
   "cell_type": "markdown",
   "id": "007b59f0",
   "metadata": {},
   "source": [
    "* In Python, Slicing means taking elements from one given index to another given index.\n",
    "* [start:end]\n",
    "* [start:end:step]\n",
    "* default start index = 0\n",
    "* default end index = Length of array in that dimention\n",
    "* default step = 1"
   ]
  },
  {
   "cell_type": "code",
   "execution_count": 12,
   "id": "a45168b4",
   "metadata": {},
   "outputs": [
    {
     "name": "stdout",
     "output_type": "stream",
     "text": [
      "[1 2]\n"
     ]
    }
   ],
   "source": [
    "print(a[:2]) # Slice index from the start of the array"
   ]
  },
  {
   "cell_type": "code",
   "execution_count": 11,
   "id": "0bc89ee6",
   "metadata": {},
   "outputs": [
    {
     "name": "stdout",
     "output_type": "stream",
     "text": [
      "[3 4]\n"
     ]
    }
   ],
   "source": [
    "print(a[2:]) #Slice index from the end of the array"
   ]
  },
  {
   "cell_type": "markdown",
   "id": "a3047625",
   "metadata": {},
   "source": [
    "###### Negative slicing"
   ]
  },
  {
   "cell_type": "code",
   "execution_count": 13,
   "id": "73c110f5",
   "metadata": {},
   "outputs": [
    {
     "name": "stdout",
     "output_type": "stream",
     "text": [
      "[3]\n"
     ]
    }
   ],
   "source": [
    "print(a[-2:-1])"
   ]
  },
  {
   "cell_type": "markdown",
   "id": "b1c8a53a",
   "metadata": {},
   "source": [
    "###### Step Value in slicing"
   ]
  },
  {
   "cell_type": "code",
   "execution_count": 14,
   "id": "dc343182",
   "metadata": {},
   "outputs": [
    {
     "name": "stdout",
     "output_type": "stream",
     "text": [
      "[1 3]\n"
     ]
    }
   ],
   "source": [
    "print(a[0:4:2])"
   ]
  },
  {
   "cell_type": "code",
   "execution_count": 16,
   "id": "edae98ef",
   "metadata": {},
   "outputs": [
    {
     "name": "stdout",
     "output_type": "stream",
     "text": [
      "[1 3]\n"
     ]
    }
   ],
   "source": [
    "print(a[::2]) #return every other element from the entire array"
   ]
  },
  {
   "cell_type": "markdown",
   "id": "d49bc432",
   "metadata": {},
   "source": [
    "######  Slicing 2D Arrays"
   ]
  },
  {
   "cell_type": "code",
   "execution_count": 18,
   "id": "f9c65e5e",
   "metadata": {},
   "outputs": [
    {
     "name": "stdout",
     "output_type": "stream",
     "text": [
      "[4 5]\n"
     ]
    }
   ],
   "source": [
    "print(b[1, :2]) # from the second element, slice from the beginning index 0, 1 (Excluding index2)"
   ]
  },
  {
   "cell_type": "code",
   "execution_count": 22,
   "id": "01d4919e",
   "metadata": {},
   "outputs": [
    {
     "name": "stdout",
     "output_type": "stream",
     "text": [
      "[[4 5 6]\n",
      " [4 5 6]]\n"
     ]
    }
   ],
   "source": [
    "print(c[0:2, 1]) #from  elements 0, 1,2 return index 1"
   ]
  },
  {
   "cell_type": "markdown",
   "id": "0a19d698",
   "metadata": {},
   "source": [
    "### Data Types In Numpy "
   ]
  },
  {
   "cell_type": "markdown",
   "id": "a618e894",
   "metadata": {},
   "source": [
    "* i = integer\n",
    "* b = boolean\n",
    "* u = unsigned integer\n",
    "* f = float\n",
    "* c = complex float\n",
    "* m = timedelta\n",
    "* M = datatime\n",
    "* O = object\n",
    "* S = sting\n",
    "* U = unicode string\n",
    "* V = fixed chunk of memory for other type(void)"
   ]
  },
  {
   "cell_type": "code",
   "execution_count": 24,
   "id": "6f9dc07f",
   "metadata": {},
   "outputs": [
    {
     "name": "stdout",
     "output_type": "stream",
     "text": [
      "int64\n"
     ]
    }
   ],
   "source": [
    "print(c.dtype)"
   ]
  },
  {
   "cell_type": "markdown",
   "id": "0d8fdddf",
   "metadata": {},
   "source": [
    "###### Defining Data type of array "
   ]
  },
  {
   "cell_type": "markdown",
   "id": "c3c6f1f9",
   "metadata": {},
   "source": [
    "ValueError is raise when the type of passed argument to a function is unexpected/incorrect"
   ]
  },
  {
   "cell_type": "code",
   "execution_count": 25,
   "id": "5ae7f9ec",
   "metadata": {},
   "outputs": [],
   "source": [
    "e = np.array([1, 2, 3, 4], dtype = 'S')"
   ]
  },
  {
   "cell_type": "code",
   "execution_count": 28,
   "id": "5c7987cd",
   "metadata": {},
   "outputs": [
    {
     "name": "stdout",
     "output_type": "stream",
     "text": [
      "[b'1' b'2' b'3' b'4']\n",
      "|S1\n"
     ]
    }
   ],
   "source": [
    "print(e)\n",
    "print(e.dtype)"
   ]
  },
  {
   "cell_type": "markdown",
   "id": "ac9e2413",
   "metadata": {},
   "source": [
    "##### Converting Data type on Existing Arrays "
   ]
  },
  {
   "cell_type": "markdown",
   "id": "b6f3a2c3",
   "metadata": {},
   "source": [
    "* Make a copy of the subject array with astype() method.\n",
    "* astype() creats copy of the array and allows to specify the data type as a parameter.\n"
   ]
  },
  {
   "cell_type": "code",
   "execution_count": 35,
   "id": "c4d17c29",
   "metadata": {},
   "outputs": [
    {
     "name": "stdout",
     "output_type": "stream",
     "text": [
      "[1 2 3 4 5]\n",
      "int32\n"
     ]
    }
   ],
   "source": [
    "f = np.array([1.1, 2.1, 3.1, 4.1, 5.1])\n",
    "fc = f.astype('i') #int will also work\n",
    "print(fc)\n",
    "print(fc.dtype)"
   ]
  },
  {
   "cell_type": "markdown",
   "id": "40fa9c18",
   "metadata": {},
   "source": [
    "#### Difference between Copy and view "
   ]
  },
  {
   "cell_type": "markdown",
   "id": "f5e1e685",
   "metadata": {},
   "source": [
    "* copy is a new array | view is view of original array\n",
    "* Copy owns the data and any changes mad to the copy will not affect original array and vice versa.\n",
    "* View doesn't own the data and any changes made to the view will affect the original array and vice versa.\n"
   ]
  },
  {
   "cell_type": "code",
   "execution_count": 34,
   "id": "b682244c",
   "metadata": {},
   "outputs": [
    {
     "name": "stdout",
     "output_type": "stream",
     "text": [
      "[1.1 2.1 3.1 4.1 5.1]\n",
      "[42.   2.1  3.1  4.1  5.1]\n"
     ]
    }
   ],
   "source": [
    "g = f.copy() #Saving the original array\n",
    "f[0] = 42 #making changes in original array\n",
    "\n",
    "print(g) # the original array is showed without change\n",
    "print(f) # The original array is changed and saved in its original place"
   ]
  },
  {
   "cell_type": "code",
   "execution_count": 37,
   "id": "9eff21f0",
   "metadata": {},
   "outputs": [
    {
     "name": "stdout",
     "output_type": "stream",
     "text": [
      "[12.   2.1  3.1  4.1  5.1]\n",
      "[12.   2.1  3.1  4.1  5.1]\n"
     ]
    }
   ],
   "source": [
    "h = f.view() # peeped whats in original array\n",
    "f[0] = 12 # made change in original array\n",
    "\n",
    "print(f) # The original array with changes\n",
    "print(h) # the method view is still peeping and telling whats in original array now"
   ]
  },
  {
   "cell_type": "markdown",
   "id": "946e07aa",
   "metadata": {},
   "source": [
    "###### Check if array owns its data "
   ]
  },
  {
   "cell_type": "code",
   "execution_count": 38,
   "id": "60167564",
   "metadata": {},
   "outputs": [
    {
     "name": "stdout",
     "output_type": "stream",
     "text": [
      "None\n",
      "[12.   2.1  3.1  4.1  5.1]\n",
      "None\n"
     ]
    }
   ],
   "source": [
    "print(f.base)\n",
    "print(h.base)\n",
    "print(g.base)"
   ]
  },
  {
   "cell_type": "markdown",
   "id": "5eb0401d",
   "metadata": {},
   "source": [
    "#### Array Shape"
   ]
  },
  {
   "cell_type": "markdown",
   "id": "d6bfa796",
   "metadata": {},
   "source": [
    "Shape of array is number of elements in each dimention"
   ]
  },
  {
   "cell_type": "code",
   "execution_count": 39,
   "id": "06c286dd",
   "metadata": {},
   "outputs": [
    {
     "name": "stdout",
     "output_type": "stream",
     "text": [
      "(5,)\n"
     ]
    }
   ],
   "source": [
    "print(f.shape)"
   ]
  },
  {
   "cell_type": "code",
   "execution_count": 41,
   "id": "42e9c09b",
   "metadata": {},
   "outputs": [
    {
     "name": "stdout",
     "output_type": "stream",
     "text": [
      "(2, 2, 3)\n"
     ]
    }
   ],
   "source": [
    "print(c.shape) #this array is 2X2 with 3 elements in each"
   ]
  },
  {
   "cell_type": "markdown",
   "id": "23aec669",
   "metadata": {},
   "source": [
    "###### Array Reshaping\n"
   ]
  },
  {
   "cell_type": "markdown",
   "id": "264d0604",
   "metadata": {},
   "source": [
    "* Reshaping the shape of an array.\n",
    "* The shape of an array is the number of elements in each dimention.\n",
    "* By reshaping , we can remove dimentions or change number of elements in each dimention."
   ]
  },
  {
   "cell_type": "markdown",
   "id": "8b6093f7",
   "metadata": {},
   "source": [
    "###### 1D TO 2D"
   ]
  },
  {
   "cell_type": "code",
   "execution_count": 43,
   "id": "2b0c5a1c",
   "metadata": {},
   "outputs": [
    {
     "name": "stdout",
     "output_type": "stream",
     "text": [
      "[[ 1  2  3]\n",
      " [ 4  5  6]\n",
      " [ 7  8  9]\n",
      " [10 12 13]]\n"
     ]
    }
   ],
   "source": [
    "i = np.array([1,2,3,4,5,6,7,8,9,10,12,13])\n",
    "iresh= i.reshape(4, 3) # 4 arrays with 3 elements each\n",
    "print(iresh)"
   ]
  },
  {
   "cell_type": "markdown",
   "id": "6718b1eb",
   "metadata": {},
   "source": [
    "###### 1D TO 3D"
   ]
  },
  {
   "cell_type": "code",
   "execution_count": 44,
   "id": "d9f8f7b3",
   "metadata": {},
   "outputs": [
    {
     "name": "stdout",
     "output_type": "stream",
     "text": [
      "[[[ 1  2]\n",
      "  [ 3  4]\n",
      "  [ 5  6]]\n",
      "\n",
      " [[ 7  8]\n",
      "  [ 9 10]\n",
      "  [12 13]]]\n"
     ]
    }
   ],
   "source": [
    "iresh3d = i.reshape(2,3,2) #12= (2x2)x : 2 rows, 2 columns and 3 channels\n",
    "print(iresh3d) #contains 2 arraysm 3 arrays each with 2 elements"
   ]
  },
  {
   "cell_type": "markdown",
   "id": "ffb0c428",
   "metadata": {},
   "source": [
    "* An array can be reshaped in any shape, provided the elements required for reshaping are equal in both shapes.\n",
    "* EXAMPLE: 1D array of 8 elememts can be reshaped in 2 row- 2D array.\n",
    "__=>__ but not with 3 elements 3 rows 2D array as it require 3x3=9 elements"
   ]
  },
  {
   "cell_type": "code",
   "execution_count": 45,
   "id": "b84d7940",
   "metadata": {},
   "outputs": [
    {
     "name": "stdout",
     "output_type": "stream",
     "text": [
      "[ 1  2  3  4  5  6  7  8  9 10 12 13]\n"
     ]
    }
   ],
   "source": [
    "print(iresh3d.base)"
   ]
  },
  {
   "cell_type": "markdown",
   "id": "62221056",
   "metadata": {},
   "source": [
    "The reshape array is a view array"
   ]
  },
  {
   "cell_type": "markdown",
   "id": "be6164d2",
   "metadata": {},
   "source": [
    "### Unknown Dimention "
   ]
  },
  {
   "cell_type": "markdown",
   "id": "60ebd978",
   "metadata": {},
   "source": [
    "* Numpy can calculate the dimention for exact number for one of the dimentions in the reshape method.\n",
    "* Pass -1 as argument"
   ]
  },
  {
   "cell_type": "code",
   "execution_count": 49,
   "id": "ebd2031f",
   "metadata": {},
   "outputs": [
    {
     "name": "stdout",
     "output_type": "stream",
     "text": [
      "[[[ 1  2]\n",
      "  [ 3  4]\n",
      "  [ 5  6]]\n",
      "\n",
      " [[ 7  8]\n",
      "  [ 9 10]\n",
      "  [12 13]]]\n"
     ]
    }
   ],
   "source": [
    "j = i.reshape(2,3,-1) #gives 2 arrays with 3 rows each\n",
    "print(j)"
   ]
  },
  {
   "cell_type": "markdown",
   "id": "845384db",
   "metadata": {},
   "source": [
    "###### Flattening the arrays "
   ]
  },
  {
   "cell_type": "markdown",
   "id": "1319aac1",
   "metadata": {},
   "source": [
    "* Flattening array corresponds to coverting N-dimentional array into 1D.\n",
    "* used reshape(-1)"
   ]
  },
  {
   "cell_type": "code",
   "execution_count": 51,
   "id": "cf22f6bf",
   "metadata": {},
   "outputs": [
    {
     "name": "stdout",
     "output_type": "stream",
     "text": [
      "[ 1  2  3  4  5  6  7  8  9 10 12 13]\n"
     ]
    }
   ],
   "source": [
    "l= j.reshape(-1)\n",
    "print(l)"
   ]
  },
  {
   "cell_type": "markdown",
   "id": "80a6edaf",
   "metadata": {},
   "source": [
    "Iterating Arrays"
   ]
  },
  {
   "cell_type": "markdown",
   "id": "3db5883d",
   "metadata": {},
   "source": [
    "* Going through elements one by one.\n",
    "* use for loop\n",
    "* if we iterate o a N-D array , it will go through N-1th dimention one by one."
   ]
  },
  {
   "cell_type": "code",
   "execution_count": 53,
   "id": "306f4b3a",
   "metadata": {},
   "outputs": [
    {
     "name": "stdout",
     "output_type": "stream",
     "text": [
      "[[1 2]\n",
      " [3 4]\n",
      " [5 6]]\n",
      "[[ 7  8]\n",
      " [ 9 10]\n",
      " [12 13]]\n"
     ]
    }
   ],
   "source": [
    "for x in j:\n",
    "    print(x) #in 2D array, it goes through the rows"
   ]
  },
  {
   "cell_type": "code",
   "execution_count": 54,
   "id": "0abe0736",
   "metadata": {},
   "outputs": [
    {
     "name": "stdout",
     "output_type": "stream",
     "text": [
      "1\n",
      "2\n",
      "3\n",
      "4\n",
      "5\n",
      "6\n",
      "7\n",
      "8\n",
      "9\n",
      "10\n",
      "12\n",
      "13\n"
     ]
    }
   ],
   "source": [
    "for x in l:\n",
    "    print(x) "
   ]
  },
  {
   "cell_type": "markdown",
   "id": "83807949",
   "metadata": {},
   "source": [
    "#### Iterating 3D Arrays "
   ]
  },
  {
   "cell_type": "markdown",
   "id": "5b40aad5",
   "metadata": {},
   "source": [
    "* In a 3D array it will go through all the 2D arrays."
   ]
  },
  {
   "cell_type": "code",
   "execution_count": 55,
   "id": "c7791048",
   "metadata": {},
   "outputs": [
    {
     "name": "stdout",
     "output_type": "stream",
     "text": [
      "[[1 2 3]\n",
      " [4 5 6]]\n",
      "[[ 7  8  9]\n",
      " [10 11 12]]\n"
     ]
    }
   ],
   "source": [
    "k = np.array([[[1,2,3],[4,5,6]], [[7,8,9], [10,11,12]]])\n",
    "for x in k:\n",
    "    print(x)"
   ]
  },
  {
   "cell_type": "markdown",
   "id": "5ff6b3c9",
   "metadata": {},
   "source": [
    "### nditer() : advanced iteration method "
   ]
  },
  {
   "cell_type": "markdown",
   "id": "97b236ee",
   "metadata": {},
   "source": [
    "* nditer() is helping function that can be used for basic -> advanced iterations.\n",
    "* Solves some basic issues which we face in iterations."
   ]
  },
  {
   "cell_type": "markdown",
   "id": "d1f09073",
   "metadata": {},
   "source": [
    "* in basic for loops, iterating through each scalar of an array, we need to use n for loops which can be difficult to write for arrays with very high dimentionality."
   ]
  },
  {
   "cell_type": "code",
   "execution_count": 57,
   "id": "9afb3efd",
   "metadata": {},
   "outputs": [
    {
     "name": "stdout",
     "output_type": "stream",
     "text": [
      "1\n",
      "2\n",
      "3\n",
      "4\n",
      "5\n",
      "6\n",
      "7\n",
      "8\n",
      "9\n",
      "10\n",
      "11\n",
      "12\n"
     ]
    }
   ],
   "source": [
    "for x in np.nditer(k):\n",
    "    print(x)"
   ]
  },
  {
   "cell_type": "markdown",
   "id": "a0f2eaec",
   "metadata": {},
   "source": [
    "### Iterating array with different data types "
   ]
  },
  {
   "cell_type": "code",
   "execution_count": 62,
   "id": "9a67d0a7",
   "metadata": {},
   "outputs": [
    {
     "name": "stdout",
     "output_type": "stream",
     "text": [
      "b'1'\n",
      "b'2'\n",
      "b'3'\n",
      "b'4'\n",
      "b'5'\n",
      "b'6'\n",
      "b'7'\n",
      "b'8'\n",
      "b'9'\n",
      "b'10'\n",
      "b'11'\n",
      "b'12'\n"
     ]
    }
   ],
   "source": [
    "for x in np.nditer(k, flags = ['buffered'], op_dtypes = ['S']):\n",
    "    print(x)"
   ]
  },
  {
   "cell_type": "markdown",
   "id": "5ecfa989",
   "metadata": {},
   "source": [
    "#### Iterating with different step Size"
   ]
  },
  {
   "cell_type": "code",
   "execution_count": 64,
   "id": "acdada1f",
   "metadata": {},
   "outputs": [
    {
     "name": "stdout",
     "output_type": "stream",
     "text": [
      "1\n",
      "2\n",
      "3\n",
      "7\n",
      "8\n",
      "9\n"
     ]
    }
   ],
   "source": [
    "for x in np.nditer(k[:, ::2]): #iterate through every scalar element of the 2D array skipping 1 element\n",
    "    print(x)"
   ]
  },
  {
   "cell_type": "markdown",
   "id": "4372e4a5",
   "metadata": {},
   "source": [
    "### Enumerated Iteration using ndenumerate() "
   ]
  },
  {
   "cell_type": "markdown",
   "id": "6edf1fdb",
   "metadata": {},
   "source": [
    "* Enumeration means mentioning sequence number of somethings one by one.\n",
    "* ndenumerate() is used for listing corresponding index of the element while iterating.\n"
   ]
  },
  {
   "cell_type": "code",
   "execution_count": 65,
   "id": "76d94fa4",
   "metadata": {},
   "outputs": [
    {
     "name": "stdout",
     "output_type": "stream",
     "text": [
      "(0, 0, 0) 1\n",
      "(0, 0, 1) 2\n",
      "(0, 0, 2) 3\n",
      "(0, 1, 0) 4\n",
      "(0, 1, 1) 5\n",
      "(0, 1, 2) 6\n",
      "(1, 0, 0) 7\n",
      "(1, 0, 1) 8\n",
      "(1, 0, 2) 9\n",
      "(1, 1, 0) 10\n",
      "(1, 1, 1) 11\n",
      "(1, 1, 2) 12\n"
     ]
    }
   ],
   "source": [
    "for idx, x in np.ndenumerate(k):\n",
    "    print(idx,x)"
   ]
  },
  {
   "cell_type": "markdown",
   "id": "c55edfa9",
   "metadata": {},
   "source": [
    "### Joining Array "
   ]
  },
  {
   "cell_type": "markdown",
   "id": "6372e83c",
   "metadata": {},
   "source": [
    "* Joining means putting contents of two or more arrays in a single array.\n",
    "* In SQL, we join tables based on a key, whereas in numpy, we Join arrays by axes.\n",
    "* we pass a sequence of arrays that we want to join to the __concatenate()__ function, along with the axis.\n",
    "* If axis is not explicitly passed, it is taken as 0."
   ]
  },
  {
   "cell_type": "code",
   "execution_count": 66,
   "id": "d94b63c6",
   "metadata": {},
   "outputs": [],
   "source": [
    "m = np.array([1,2,3])\n",
    "n = np.array([4,5,6])\n",
    "o = np.array(['apple', 'banana', 'strychnine'])\n"
   ]
  },
  {
   "cell_type": "code",
   "execution_count": 69,
   "id": "29bd340c",
   "metadata": {},
   "outputs": [
    {
     "name": "stdout",
     "output_type": "stream",
     "text": [
      "[1 2 3 4 5 6]\n"
     ]
    }
   ],
   "source": [
    "mn = np.concatenate((m,n))\n",
    "print(mn)"
   ]
  },
  {
   "cell_type": "code",
   "execution_count": 70,
   "id": "c0491ec8",
   "metadata": {},
   "outputs": [
    {
     "name": "stdout",
     "output_type": "stream",
     "text": [
      "['1' '2' '3' 'apple' 'banana' 'strychnine']\n"
     ]
    }
   ],
   "source": [
    "mo = np.concatenate((m,o))\n",
    "print(mo)"
   ]
  },
  {
   "cell_type": "markdown",
   "id": "d43f97bf",
   "metadata": {},
   "source": [
    "###### Lesson Learned:"
   ]
  },
  {
   "cell_type": "markdown",
   "id": "f073cdea",
   "metadata": {},
   "source": [
    "any kind of array can be concatenated"
   ]
  },
  {
   "cell_type": "markdown",
   "id": "12cffa8b",
   "metadata": {},
   "source": [
    "### Joining Arrays using Stack Functions "
   ]
  },
  {
   "cell_type": "markdown",
   "id": "ac53824d",
   "metadata": {},
   "source": [
    "* Stacking is same as concatenation , the only difference is that stacking is done along a New Axis.\n",
    "* Concatenate 2 1-D arrays along the second axis which would result in putting them one over the other , i.e., stacking."
   ]
  },
  {
   "cell_type": "code",
   "execution_count": 72,
   "id": "7d2114b1",
   "metadata": {},
   "outputs": [
    {
     "name": "stdout",
     "output_type": "stream",
     "text": [
      "[[1 2 3]\n",
      " [4 5 6]]\n"
     ]
    }
   ],
   "source": [
    "p = np.stack((m,n)) n\n",
    "print(p)"
   ]
  },
  {
   "cell_type": "code",
   "execution_count": 74,
   "id": "f9b00687",
   "metadata": {},
   "outputs": [
    {
     "name": "stdout",
     "output_type": "stream",
     "text": [
      "[[1 4]\n",
      " [2 5]\n",
      " [3 6]]\n"
     ]
    }
   ],
   "source": [
    "p = np.stack((m,n), axis =1)\n",
    "print(p)"
   ]
  },
  {
   "cell_type": "markdown",
   "id": "e22d4c48",
   "metadata": {},
   "source": [
    "###### Observation:\n"
   ]
  },
  {
   "cell_type": "markdown",
   "id": "98f9224c",
   "metadata": {},
   "source": [
    "* default axis = 0: x-axis\n",
    "* axis =1: y-axis"
   ]
  },
  {
   "cell_type": "markdown",
   "id": "426bc35a",
   "metadata": {},
   "source": [
    "##### Numpy provides a helper function: hstack() to stack along rows. "
   ]
  },
  {
   "cell_type": "code",
   "execution_count": 76,
   "id": "b7025f39",
   "metadata": {},
   "outputs": [
    {
     "name": "stdout",
     "output_type": "stream",
     "text": [
      "[1 2 3 4 5 6]\n"
     ]
    }
   ],
   "source": [
    "q = np.hstack((m,n))\n",
    "print(q)"
   ]
  },
  {
   "cell_type": "markdown",
   "id": "5ac18ce6",
   "metadata": {},
   "source": [
    "###### Numpy provides a helper function: vstack() to stack along columns."
   ]
  },
  {
   "cell_type": "code",
   "execution_count": 78,
   "id": "1f2dde73",
   "metadata": {},
   "outputs": [
    {
     "name": "stdout",
     "output_type": "stream",
     "text": [
      "[[1 2 3]\n",
      " [4 5 6]]\n"
     ]
    }
   ],
   "source": [
    "r = np.vstack((m,n))\n",
    "print(r)"
   ]
  },
  {
   "cell_type": "code",
   "execution_count": 79,
   "id": "6a4b7a30",
   "metadata": {},
   "outputs": [
    {
     "name": "stdout",
     "output_type": "stream",
     "text": [
      "[[[1 4]\n",
      "  [2 5]\n",
      "  [3 6]]]\n"
     ]
    }
   ],
   "source": [
    "q = np.dstack((m,n))\n",
    "print(q)"
   ]
  },
  {
   "cell_type": "markdown",
   "id": "c468e689",
   "metadata": {},
   "source": [
    "### Splitting array "
   ]
  },
  {
   "cell_type": "markdown",
   "id": "a2d3a948",
   "metadata": {},
   "source": [
    "* Reverse to Joining/Concatenation\n",
    "* Merges multiple arrays into one and splitting breaks one array into multiple.\n",
    "* We use array_split() for splitting arrays, we pass it the array we want to split and the number of splits.\n"
   ]
  },
  {
   "cell_type": "code",
   "execution_count": 82,
   "id": "10b81f31",
   "metadata": {},
   "outputs": [
    {
     "name": "stdout",
     "output_type": "stream",
     "text": [
      "[array([[[1, 4],\n",
      "        [2, 5],\n",
      "        [3, 6]]]), array([], shape=(0, 3, 2), dtype=int64), array([], shape=(0, 3, 2), dtype=int64), array([], shape=(0, 3, 2), dtype=int64)]\n"
     ]
    }
   ],
   "source": [
    "s= np.array_split(q, 4)\n",
    "print(s)"
   ]
  },
  {
   "cell_type": "code",
   "execution_count": 83,
   "id": "5a8d0e36",
   "metadata": {},
   "outputs": [
    {
     "name": "stdout",
     "output_type": "stream",
     "text": [
      "[[[1 4]\n",
      "  [2 5]\n",
      "  [3 6]]]\n"
     ]
    }
   ],
   "source": [
    "print(s[0])"
   ]
  },
  {
   "cell_type": "code",
   "execution_count": 84,
   "id": "10f6ccb4",
   "metadata": {},
   "outputs": [
    {
     "name": "stdout",
     "output_type": "stream",
     "text": [
      "[]\n"
     ]
    }
   ],
   "source": [
    "print(s[1])"
   ]
  },
  {
   "cell_type": "code",
   "execution_count": null,
   "id": "ef8c6ae1",
   "metadata": {},
   "outputs": [],
   "source": []
  }
 ],
 "metadata": {
  "kernelspec": {
   "display_name": "Python 3 (ipykernel)",
   "language": "python",
   "name": "python3"
  },
  "language_info": {
   "codemirror_mode": {
    "name": "ipython",
    "version": 3
   },
   "file_extension": ".py",
   "mimetype": "text/x-python",
   "name": "python",
   "nbconvert_exporter": "python",
   "pygments_lexer": "ipython3",
   "version": "3.7.11"
  }
 },
 "nbformat": 4,
 "nbformat_minor": 5
}
