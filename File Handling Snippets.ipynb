{
 "cells": [
  {
   "cell_type": "markdown",
   "id": "333ca936",
   "metadata": {},
   "source": [
    "* the key function for working with files in Py: open() function\n",
    "* The open() function takes two parameters: filename and mode.\n",
    "* there are four different methods (modes) for opening a file:\n"
   ]
  },
  {
   "cell_type": "markdown",
   "id": "4042bd6a",
   "metadata": {},
   "source": [
    "* \"r\" Read\n",
    "* \"a\" Append\n",
    "\n",
    "* \"w\" write\n",
    "* \"x\" create\n",
    "\n",
    "* \"t\" Text\n",
    "* \"b\" Binary"
   ]
  },
  {
   "cell_type": "code",
   "execution_count": 2,
   "id": "500fc7b7",
   "metadata": {},
   "outputs": [],
   "source": [
    "f = open(\"/home/Downloads/wei.pdf\")\n"
   ]
  },
  {
   "cell_type": "code",
   "execution_count": null,
   "id": "200af094",
   "metadata": {},
   "outputs": [],
   "source": [
    "import os\n",
    "os.remove(\"/home/Downloads/wei.pdf\")"
   ]
  }
 ],
 "metadata": {
  "kernelspec": {
   "display_name": "Python 3 (ipykernel)",
   "language": "python",
   "name": "python3"
  },
  "language_info": {
   "codemirror_mode": {
    "name": "ipython",
    "version": 3
   },
   "file_extension": ".py",
   "mimetype": "text/x-python",
   "name": "python",
   "nbconvert_exporter": "python",
   "pygments_lexer": "ipython3",
   "version": "3.7.11"
  }
 },
 "nbformat": 4,
 "nbformat_minor": 5
}
