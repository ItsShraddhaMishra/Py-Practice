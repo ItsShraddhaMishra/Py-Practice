{
 "cells": [
  {
   "cell_type": "markdown",
   "id": "651b3a8f",
   "metadata": {},
   "source": [
    "* Random number does NOT mean a different number every time. Random means something that can not be predicted logically.\n",
    "* Random numbers are generated through a generation algorithm  and are called pseudo random.\n",
    "* In order to generate a truly random number on our computers, we need to get the random data from some outside source. This outside source is generally our keystrokes, mouse movements and data on network, etc.\n",
    "* True random are needed for security , basis of application is randomness. Pseudo random number is used in normal uses cases."
   ]
  },
  {
   "cell_type": "code",
   "execution_count": 17,
   "id": "33b7e8ee",
   "metadata": {},
   "outputs": [],
   "source": [
    "import numpy as np\n",
    "from numpy import random"
   ]
  },
  {
   "cell_type": "markdown",
   "id": "59397d8e",
   "metadata": {},
   "source": [
    "Generate a random integer 0-100"
   ]
  },
  {
   "cell_type": "code",
   "execution_count": 4,
   "id": "c34715e7",
   "metadata": {},
   "outputs": [
    {
     "name": "stdout",
     "output_type": "stream",
     "text": [
      "37\n"
     ]
    }
   ],
   "source": [
    "a= random.randint(100)\n",
    "print(a)"
   ]
  },
  {
   "cell_type": "markdown",
   "id": "53e68f6a",
   "metadata": {},
   "source": [
    "Generate random float between 0-1"
   ]
  },
  {
   "cell_type": "code",
   "execution_count": 5,
   "id": "e563caf8",
   "metadata": {},
   "outputs": [
    {
     "name": "stdout",
     "output_type": "stream",
     "text": [
      "0.4047643567195762\n"
     ]
    }
   ],
   "source": [
    "b = random.rand()\n",
    "print(b)"
   ]
  },
  {
   "cell_type": "markdown",
   "id": "c1bb6b6f",
   "metadata": {},
   "source": [
    "### Generate Random Array"
   ]
  },
  {
   "cell_type": "code",
   "execution_count": 6,
   "id": "284f78c5",
   "metadata": {},
   "outputs": [
    {
     "name": "stdout",
     "output_type": "stream",
     "text": [
      "[76 14 50 29 27]\n"
     ]
    }
   ],
   "source": [
    "c= random.randint(100, size = (5))\n",
    "print(c)"
   ]
  },
  {
   "cell_type": "code",
   "execution_count": 7,
   "id": "dca57213",
   "metadata": {},
   "outputs": [
    {
     "name": "stdout",
     "output_type": "stream",
     "text": [
      "[[42 10 83 57 96]\n",
      " [85 51 45 75 41]\n",
      " [66 71 77 91 73]]\n"
     ]
    }
   ],
   "source": [
    "d = random.randint(100, size= (3, 5))\n",
    "print(d)"
   ]
  },
  {
   "cell_type": "code",
   "execution_count": 8,
   "id": "4155d56c",
   "metadata": {},
   "outputs": [
    {
     "name": "stdout",
     "output_type": "stream",
     "text": [
      "[0.89832813 0.67710884 0.64979994 0.80565095 0.60008613]\n"
     ]
    }
   ],
   "source": [
    "e = random.rand(5)\n",
    "print(e)"
   ]
  },
  {
   "cell_type": "code",
   "execution_count": 9,
   "id": "2ca004f6",
   "metadata": {},
   "outputs": [
    {
     "name": "stdout",
     "output_type": "stream",
     "text": [
      "[[0.93950881 0.04766067 0.93795228 0.1680983  0.3935224 ]\n",
      " [0.12395164 0.07318345 0.88892481 0.094456   0.56970431]\n",
      " [0.23305003 0.91101804 0.8705532  0.83275782 0.79633252]]\n"
     ]
    }
   ],
   "source": [
    "f = random.rand(3, 5)\n",
    "print(f)"
   ]
  },
  {
   "cell_type": "markdown",
   "id": "8e5cef8c",
   "metadata": {},
   "source": [
    "#### Generate Random Number from Array "
   ]
  },
  {
   "cell_type": "markdown",
   "id": "5e5af71a",
   "metadata": {},
   "source": [
    "The choice() method :\n",
    "* generate a random value on an array of values.\n",
    "* takes an array as a parameter and randomly return one of the values."
   ]
  },
  {
   "cell_type": "code",
   "execution_count": 10,
   "id": "e1f9f6dc",
   "metadata": {},
   "outputs": [
    {
     "name": "stdout",
     "output_type": "stream",
     "text": [
      "9\n"
     ]
    }
   ],
   "source": [
    "g= random.choice([3, 5, 7, 9])\n",
    "print(g)"
   ]
  },
  {
   "cell_type": "code",
   "execution_count": 11,
   "id": "997c5021",
   "metadata": {},
   "outputs": [
    {
     "name": "stdout",
     "output_type": "stream",
     "text": [
      "[[5 3 3 9 9]\n",
      " [7 5 9 9 7]\n",
      " [5 9 9 7 3]]\n"
     ]
    }
   ],
   "source": [
    "h= random.choice([3, 5, 7, 9], size = (3,5))\n",
    "print(h)"
   ]
  },
  {
   "cell_type": "markdown",
   "id": "9af2d2c6",
   "metadata": {},
   "source": [
    "### random Data distribution "
   ]
  },
  {
   "cell_type": "markdown",
   "id": "697cb8c6",
   "metadata": {},
   "source": [
    "* Data Distribution is a list of all possible values, and how often each value occures.\n",
    "* Such lists are important when working with statistics and data science.\n",
    "* Random distribution is a set of random numbers that follow a certain Probability density function(a function that describes a continuous probability, i.e., probability of all values in an array).\n",
    "* We can generate random numbers based on defined probabilities using the choice() method of the random module.\n",
    "* The Choice() mrthoda allows us to specify the probability for each value"
   ]
  },
  {
   "cell_type": "code",
   "execution_count": 14,
   "id": "28ab8ef2",
   "metadata": {},
   "outputs": [
    {
     "name": "stdout",
     "output_type": "stream",
     "text": [
      "[[5 3 7 7 5]\n",
      " [7 7 5 7 5]\n",
      " [5 5 7 7 7]]\n"
     ]
    }
   ],
   "source": [
    "i = random.choice([3, 5,7,9], p = [0.1, 0.3, 0.6, 0.0], size = (3,5))\n",
    "print(i)"
   ]
  },
  {
   "cell_type": "markdown",
   "id": "a4da3e81",
   "metadata": {},
   "source": [
    "#### Random Permutations of Elements "
   ]
  },
  {
   "cell_type": "markdown",
   "id": "376f963e",
   "metadata": {},
   "source": [
    "* A permutation refers to an arrangement of elements, e.g. [3, 2,1] is a permutation of [1, 2, 3] and vice-versa.\n",
    "* NumPy Random module provides two methods for this: shuffle() and permutation()."
   ]
  },
  {
   "cell_type": "code",
   "execution_count": 19,
   "id": "5eeb013c",
   "metadata": {},
   "outputs": [
    {
     "name": "stdout",
     "output_type": "stream",
     "text": [
      "[3 5 4 2 1] Shuffle means changing arrangement of elements in-place, i.e. in the array itself\n"
     ]
    }
   ],
   "source": [
    "j = np.array([1, 2, 3, 4, 5])\n",
    "random.shuffle(j)\n",
    "print(j, \"Shuffle means changing arrangement of elements in-place, i.e. in the array itself\")"
   ]
  },
  {
   "cell_type": "markdown",
   "id": "a665f68d",
   "metadata": {},
   "source": [
    "#### Generating Permutation of Arrays"
   ]
  },
  {
   "cell_type": "code",
   "execution_count": 20,
   "id": "bdb0f35b",
   "metadata": {},
   "outputs": [
    {
     "name": "stdout",
     "output_type": "stream",
     "text": [
      "[5 2 4 3 1]\n"
     ]
    }
   ],
   "source": [
    "k = np.array([1, 2, 3, 4, 5])\n",
    "print(random.permutation(k))"
   ]
  },
  {
   "cell_type": "markdown",
   "id": "1b280f9a",
   "metadata": {},
   "source": [
    "* shuffle() method makes changes to the original array.\n",
    "* permutation() method __returns__ a re-arranged array leaving the original array un-changed."
   ]
  },
  {
   "cell_type": "markdown",
   "id": "a336e0c8",
   "metadata": {},
   "source": [
    "#### Visualization of Distributions\n"
   ]
  },
  {
   "cell_type": "markdown",
   "id": "72c261a9",
   "metadata": {},
   "source": [
    "* Distplot stands for distribution plot.\n",
    "* Takes an array and plots a curve corresponding to the points in the array."
   ]
  },
  {
   "cell_type": "code",
   "execution_count": 21,
   "id": "2ef5bdc5",
   "metadata": {},
   "outputs": [],
   "source": [
    "import matplotlib.pyplot as plt"
   ]
  },
  {
   "cell_type": "code",
   "execution_count": 22,
   "id": "9967e59e",
   "metadata": {},
   "outputs": [],
   "source": [
    "import seaborn as sns"
   ]
  },
  {
   "cell_type": "code",
   "execution_count": 24,
   "id": "2695e086",
   "metadata": {},
   "outputs": [
    {
     "data": {
      "image/png": "[encoded data removed]",
      "text/plain": [
       "<Figure size 432x288 with 1 Axes>"
      ]
     },
     "metadata": {
      "needs_background": "light"
     },
     "output_type": "display_data"
    }
   ],
   "source": [
    "sns.histplot([0, 1, 2, 3, 4, 5])\n",
    "plt.show()"
   ]
  },
  {
   "cell_type": "code",
   "execution_count": 25,
   "id": "b848d39d",
   "metadata": {},
   "outputs": [
    {
     "name": "stderr",
     "output_type": "stream",
     "text": [
      "/home/rvl224/anaconda3/envs/Mahadev/lib/python3.7/site-packages/seaborn/distributions.py:2619: FutureWarning: `distplot` is a deprecated function and will be removed in a future version. Please adapt your code to use either `displot` (a figure-level function with similar flexibility) or `histplot` (an axes-level function for histograms).\n",
      "  warnings.warn(msg, FutureWarning)\n"
     ]
    },
    {
     "data": {
      "image/png": "[encoded data removed]",
      "text/plain": [
       "<Figure size 432x288 with 1 Axes>"
      ]
     },
     "metadata": {
      "needs_background": "light"
     },
     "output_type": "display_data"
    }
   ],
   "source": [
    "sns.distplot([0, 1, 2, 3, 4, 5])\n",
    "plt.show()"
   ]
  },
  {
   "cell_type": "markdown",
   "id": "58f861b1",
   "metadata": {},
   "source": [
    "### Normal (Gaussian) Distribution "
   ]
  },
  {
   "cell_type": "markdown",
   "id": "22e7ac27",
   "metadata": {},
   "source": [
    "* it fits probability distribution of many events, eg: IQ Scores, Heartbeat, etc. \n",
    "* Use the random.normal() method to get a Normal Data distribution.\n",
    "\n",
    "it has 3 Parameters:\n",
    "1. loc = (Mean) peak of bell\n",
    "2. scale = (standar deviation) how flat the graph distribution should be.\n",
    "3. size = The shape of the returned array."
   ]
  },
  {
   "cell_type": "code",
   "execution_count": 27,
   "id": "1484fb87",
   "metadata": {},
   "outputs": [
    {
     "name": "stdout",
     "output_type": "stream",
     "text": [
      "[[ 0.74906426  2.76005333  0.05228179]\n",
      " [-0.07619669 -1.69039205 -0.28851695]]\n"
     ]
    }
   ],
   "source": [
    "l = random.normal(size =(2,3))\n",
    "print(l)"
   ]
  },
  {
   "cell_type": "code",
   "execution_count": 28,
   "id": "5b952759",
   "metadata": {},
   "outputs": [
    {
     "name": "stderr",
     "output_type": "stream",
     "text": [
      "/home/rvl224/anaconda3/envs/Mahadev/lib/python3.7/site-packages/seaborn/distributions.py:2619: FutureWarning: `distplot` is a deprecated function and will be removed in a future version. Please adapt your code to use either `displot` (a figure-level function with similar flexibility) or `histplot` (an axes-level function for histograms).\n",
      "  warnings.warn(msg, FutureWarning)\n"
     ]
    },
    {
     "data": {
      "image/png": "[encoded data removed]",
      "text/plain": [
       "<Figure size 432x288 with 1 Axes>"
      ]
     },
     "metadata": {
      "needs_background": "light"
     },
     "output_type": "display_data"
    }
   ],
   "source": [
    "sns.distplot(l)\n",
    "plt.show()"
   ]
  },
  {
   "cell_type": "markdown",
   "id": "b1b6409f",
   "metadata": {},
   "source": [
    "### Binomial Distribution "
   ]
  },
  {
   "cell_type": "markdown",
   "id": "055619db",
   "metadata": {},
   "source": [
    "* Binomial Distribution is a Discrete Distribution(Separate set of Events).\n",
    "* It describes the outcome of binary scenarios, e.g., toss of a coin: H/T.\n",
    "It has 3 Parameters:\n",
    "\n",
    "1. n: Number of Trials.\n",
    "2. p: Probability of occurance of each trial(e.g.: for loss of a coin 0.5 each).\n",
    "3. size: The shape of the returned array.\n"
   ]
  },
  {
   "cell_type": "code",
   "execution_count": 29,
   "id": "0c33f6e8",
   "metadata": {},
   "outputs": [
    {
     "name": "stderr",
     "output_type": "stream",
     "text": [
      "/home/rvl224/anaconda3/envs/Mahadev/lib/python3.7/site-packages/seaborn/distributions.py:2619: FutureWarning: `distplot` is a deprecated function and will be removed in a future version. Please adapt your code to use either `displot` (a figure-level function with similar flexibility) or `histplot` (an axes-level function for histograms).\n",
      "  warnings.warn(msg, FutureWarning)\n"
     ]
    },
    {
     "data": {
      "image/png": "[encoded data removed]",
      "text/plain": [
       "<Figure size 432x288 with 1 Axes>"
      ]
     },
     "metadata": {
      "needs_background": "light"
     },
     "output_type": "display_data"
    }
   ],
   "source": [
    "sns.distplot(random.binomial(n = 10, p=0.5, size =100))\n",
    "plt.show()"
   ]
  },
  {
   "cell_type": "markdown",
   "id": "d2ad8e49",
   "metadata": {},
   "source": [
    "### Poisson Distribution "
   ]
  },
  {
   "cell_type": "markdown",
   "id": "fe1de534",
   "metadata": {},
   "source": [
    "* its discrete distribution.\n",
    "* It estimates how many times an even can happen in a specified time. e.g. If someone eats twice a day what is probabaility he will eat thrice.\n",
    "* 2 parameter:\n",
    "1. lam: rate/ known number of occurance.\n",
    "2. size: shape of the returned array.\n"
   ]
  },
  {
   "cell_type": "code",
   "execution_count": 33,
   "id": "e2889085",
   "metadata": {},
   "outputs": [
    {
     "name": "stdout",
     "output_type": "stream",
     "text": [
      "[3 1 0 ... 2 3 1]\n"
     ]
    }
   ],
   "source": [
    "m = random.poisson(lam = 2, size=100000)\n",
    "print(m)"
   ]
  },
  {
   "cell_type": "code",
   "execution_count": 34,
   "id": "b2263b9d",
   "metadata": {},
   "outputs": [
    {
     "data": {
      "text/plain": [
       "<AxesSubplot:>"
      ]
     },
     "execution_count": 34,
     "metadata": {},
     "output_type": "execute_result"
    },
    {
     "data": {
      "image/png": "[encoded data removed]",
      "text/plain": [
       "<Figure size 432x288 with 1 Axes>"
      ]
     },
     "metadata": {
      "needs_background": "light"
     },
     "output_type": "display_data"
    }
   ],
   "source": [
    "sns.distplot(m, kde =False)"
   ]
  },
  {
   "cell_type": "markdown",
   "id": "6cbc7f26",
   "metadata": {},
   "source": [
    "* Normal distribution -> Continuous.\n",
    "* Binomial Bistribution -> Discrete. For Discrete trials.\n",
    "* Poisson Distribution -> Discrete. For Continuous Trials."
   ]
  },
  {
   "cell_type": "markdown",
   "id": "93c9a5e0",
   "metadata": {},
   "source": [
    "### Logistic Distribution "
   ]
  },
  {
   "cell_type": "markdown",
   "id": "c6c01ae3",
   "metadata": {},
   "source": [
    "* LOgistic Distribution is used to describe growth.\n",
    "* Used extensively in Machine Learning in Logistic regression, Neural networks, etc.\n",
    "* It has 3 Parameters:\n",
    "1. loc: mean, where the peak is. Default 0 .\n",
    "2. scale: standard deviation, the flatness of distribution. Default 1.\n",
    "3. size: The shape of the returned array."
   ]
  },
  {
   "cell_type": "code",
   "execution_count": null,
   "id": "b3b8fb4d",
   "metadata": {},
   "outputs": [],
   "source": []
  }
 ],
 "metadata": {
  "kernelspec": {
   "display_name": "Python 3 (ipykernel)",
   "language": "python",
   "name": "python3"
  },
  "language_info": {
   "codemirror_mode": {
    "name": "ipython",
    "version": 3
   },
   "file_extension": ".py",
   "mimetype": "text/x-python",
   "name": "python",
   "nbconvert_exporter": "python",
   "pygments_lexer": "ipython3",
   "version": "3.7.11"
  }
 },
 "nbformat": 4,
 "nbformat_minor": 5
}
