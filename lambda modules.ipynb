{
 "cells": [
  {
   "cell_type": "markdown",
   "id": "f8f57f83",
   "metadata": {},
   "source": [
    "### lambda"
   ]
  },
  {
   "cell_type": "code",
   "execution_count": 1,
   "id": "443c09ae",
   "metadata": {},
   "outputs": [],
   "source": [
    "x =lambda a: a+ 10"
   ]
  },
  {
   "cell_type": "code",
   "execution_count": 2,
   "id": "29388b23",
   "metadata": {},
   "outputs": [
    {
     "name": "stdout",
     "output_type": "stream",
     "text": [
      "15\n"
     ]
    }
   ],
   "source": [
    "print(x(5))"
   ]
  },
  {
   "cell_type": "code",
   "execution_count": 4,
   "id": "487fb2e5",
   "metadata": {},
   "outputs": [],
   "source": [
    "x= lambda a, b: a*b"
   ]
  },
  {
   "cell_type": "code",
   "execution_count": 5,
   "id": "3f53ad60",
   "metadata": {},
   "outputs": [
    {
     "name": "stdout",
     "output_type": "stream",
     "text": [
      "30\n"
     ]
    }
   ],
   "source": [
    "print(x(5,6))"
   ]
  },
  {
   "cell_type": "code",
   "execution_count": 6,
   "id": "7b9c03b1",
   "metadata": {},
   "outputs": [
    {
     "name": "stdout",
     "output_type": "stream",
     "text": [
      "13\n"
     ]
    }
   ],
   "source": [
    "x = lambda a,b,c: a+b+c\n",
    "print(x(5,6,2))"
   ]
  },
  {
   "cell_type": "markdown",
   "id": "fd39dbef",
   "metadata": {},
   "source": [
    "#####  Why we use lambda functions?"
   ]
  },
  {
   "cell_type": "markdown",
   "id": "6b167234",
   "metadata": {},
   "source": [
    "the power of lambda is better utilized as an anonymous function inside another function.\n"
   ]
  },
  {
   "cell_type": "code",
   "execution_count": 7,
   "id": "0ef8544a",
   "metadata": {},
   "outputs": [],
   "source": [
    "def power(n):\n",
    "    return lambda a: a^n\n"
   ]
  },
  {
   "cell_type": "code",
   "execution_count": 9,
   "id": "580f0578",
   "metadata": {},
   "outputs": [
    {
     "name": "stdout",
     "output_type": "stream",
     "text": [
      "15\n"
     ]
    }
   ],
   "source": [
    "w =power(3)\n",
    "print(w(12))"
   ]
  },
  {
   "cell_type": "markdown",
   "id": "d8c65a5a",
   "metadata": {},
   "source": [
    "### Inheritance "
   ]
  },
  {
   "cell_type": "code",
   "execution_count": 2,
   "id": "5feda30c",
   "metadata": {},
   "outputs": [
    {
     "name": "stdout",
     "output_type": "stream",
     "text": [
      "John Doe\n"
     ]
    }
   ],
   "source": [
    "#Parent class\n",
    "class Person:\n",
    "    def __init__(self, fname, lname):\n",
    "        self.firstname = fname\n",
    "        self.lastname = lname\n",
    "        \n",
    "    def printname(self):               #its aka method\n",
    "        print(self.firstname, self.lastname)\n",
    "\n",
    "# using parent class to create an object and then printing method\n",
    "\n",
    "x= Person(\"John\", \"Doe\")\n",
    "x.printname()"
   ]
  },
  {
   "cell_type": "code",
   "execution_count": 3,
   "id": "f1864a72",
   "metadata": {},
   "outputs": [
    {
     "name": "stdout",
     "output_type": "stream",
     "text": [
      "Shraddha Mishra\n"
     ]
    }
   ],
   "source": [
    "#child class\n",
    "class Student(Person):\n",
    "    pass\n",
    "\n",
    "x = Student(\"Shraddha\", \"Mishra\")\n",
    "x.printname()"
   ]
  },
  {
   "cell_type": "markdown",
   "id": "a7810aeb",
   "metadata": {},
   "source": [
    "###### Adding  __init__()  class\n"
   ]
  },
  {
   "cell_type": "code",
   "execution_count": 5,
   "id": "2ca299b8",
   "metadata": {},
   "outputs": [],
   "source": [
    "class Student(Person):\n",
    "    def __init__(self, fname, lname):\n",
    "        #add properties etc.\n",
    "        person,__init__(self, fname, lname)"
   ]
  },
  {
   "cell_type": "markdown",
   "id": "2e9b2124",
   "metadata": {},
   "source": [
    "whe we add __init__() function , the child class no longer inherits parent's __init__() function"
   ]
  },
  {
   "cell_type": "markdown",
   "id": "bc2dcf4f",
   "metadata": {},
   "source": [
    "However, super() function makes the child class inherit all the methods and properties from its parent"
   ]
  },
  {
   "cell_type": "code",
   "execution_count": 6,
   "id": "2f2c9788",
   "metadata": {},
   "outputs": [],
   "source": [
    "class Student(Person):\n",
    "    def __init__(self, fname, lname):\n",
    "        super(),__init__(fname, lname)"
   ]
  },
  {
   "cell_type": "markdown",
   "id": "c25d9f3e",
   "metadata": {},
   "source": [
    "##### Adding Properties "
   ]
  },
  {
   "cell_type": "code",
   "execution_count": 7,
   "id": "5f1e246d",
   "metadata": {},
   "outputs": [],
   "source": [
    "class Student(Person):\n",
    "    def __init__(self, fname, lname):\n",
    "        super().__init__(fname, lname)\n",
    "        self.graduationyear = 2022"
   ]
  },
  {
   "cell_type": "markdown",
   "id": "7a5b90dc",
   "metadata": {},
   "source": [
    "##### Adding Methods"
   ]
  },
  {
   "cell_type": "code",
   "execution_count": 8,
   "id": "ed8c3ab8",
   "metadata": {},
   "outputs": [],
   "source": [
    "class Student(Person):\n",
    "    def __init__(self, fname, lname, year):\n",
    "        super().__init__(fname, lname)\n",
    "        self.graduationyear = year\n",
    "        \n",
    "    def welcome(self):\n",
    "        print(\"Welcome\", self.firstname, self.lastname, \"To the class of\", self.graduationyear)"
   ]
  },
  {
   "cell_type": "markdown",
   "id": "506dd9c8",
   "metadata": {},
   "source": [
    "## Iterators "
   ]
  },
  {
   "cell_type": "markdown",
   "id": "88feca3a",
   "metadata": {},
   "source": [
    "* an iterator is an object that contatins a countable number of values\n",
    "* An iterator is an object that can be iterated upon, meaning that you can traverse through all the values.\n",
    "* Technically, in Python, an iterator is an object which implements the iterator protocol, consits of method __iter() and __next__()"
   ]
  },
  {
   "cell_type": "code",
   "execution_count": 9,
   "id": "68bbf066",
   "metadata": {},
   "outputs": [
    {
     "name": "stdout",
     "output_type": "stream",
     "text": [
      "banana\n"
     ]
    }
   ],
   "source": [
    "fruittuple = (\"banana\", \"apple\" , \"strawberry\" , \"mango\")\n",
    "itr = iter(fruittuple)\n",
    "\n",
    "print (next(itr))"
   ]
  },
  {
   "cell_type": "code",
   "execution_count": 10,
   "id": "656875f6",
   "metadata": {},
   "outputs": [
    {
     "name": "stdout",
     "output_type": "stream",
     "text": [
      "apple\n"
     ]
    }
   ],
   "source": [
    "print (next(itr))\n"
   ]
  },
  {
   "cell_type": "code",
   "execution_count": 11,
   "id": "79dfb25e",
   "metadata": {},
   "outputs": [
    {
     "name": "stdout",
     "output_type": "stream",
     "text": [
      "strawberry\n"
     ]
    }
   ],
   "source": [
    "print (next(itr))"
   ]
  },
  {
   "cell_type": "markdown",
   "id": "77e8fe77",
   "metadata": {},
   "source": [
    "iter function comes with pair of next"
   ]
  },
  {
   "cell_type": "markdown",
   "id": "b15fe773",
   "metadata": {},
   "source": [
    "#####  Looping through the iterator"
   ]
  },
  {
   "cell_type": "code",
   "execution_count": 12,
   "id": "37972fed",
   "metadata": {},
   "outputs": [
    {
     "name": "stdout",
     "output_type": "stream",
     "text": [
      "banana\n",
      "apple\n",
      "strawberry\n",
      "mango\n"
     ]
    }
   ],
   "source": [
    "for x in fruittuple:\n",
    "    print(x)"
   ]
  },
  {
   "cell_type": "code",
   "execution_count": null,
   "id": "d5590a4e",
   "metadata": {},
   "outputs": [],
   "source": []
  }
 ],
 "metadata": {
  "kernelspec": {
   "display_name": "Python 3",
   "language": "python",
   "name": "python3"
  },
  "language_info": {
   "codemirror_mode": {
    "name": "ipython",
    "version": 3
   },
   "file_extension": ".py",
   "mimetype": "text/x-python",
   "name": "python",
   "nbconvert_exporter": "python",
   "pygments_lexer": "ipython3",
   "version": "3.7.0"
  }
 },
 "nbformat": 4,
 "nbformat_minor": 5
}
