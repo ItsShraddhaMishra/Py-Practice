{
 "cells": [
  {
   "cell_type": "markdown",
   "id": "5ee3c64f",
   "metadata": {},
   "source": [
    "### lambda"
   ]
  },
  {
   "cell_type": "code",
   "execution_count": 1,
   "id": "e2b46286",
   "metadata": {},
   "outputs": [],
   "source": [
    "x =lambda a: a+ 10"
   ]
  },
  {
   "cell_type": "code",
   "execution_count": 2,
   "id": "d4d8292d",
   "metadata": {},
   "outputs": [
    {
     "name": "stdout",
     "output_type": "stream",
     "text": [
      "15\n"
     ]
    }
   ],
   "source": [
    "print(x(5))"
   ]
  },
  {
   "cell_type": "code",
   "execution_count": 4,
   "id": "132a5fe8",
   "metadata": {},
   "outputs": [],
   "source": [
    "x= lambda a, b: a*b"
   ]
  },
  {
   "cell_type": "code",
   "execution_count": 5,
   "id": "1b753027",
   "metadata": {},
   "outputs": [
    {
     "name": "stdout",
     "output_type": "stream",
     "text": [
      "30\n"
     ]
    }
   ],
   "source": [
    "print(x(5,6))"
   ]
  },
  {
   "cell_type": "code",
   "execution_count": 6,
   "id": "b320855f",
   "metadata": {},
   "outputs": [
    {
     "name": "stdout",
     "output_type": "stream",
     "text": [
      "13\n"
     ]
    }
   ],
   "source": [
    "x = lambda a,b,c: a+b+c\n",
    "print(x(5,6,2))"
   ]
  },
  {
   "cell_type": "markdown",
   "id": "343e622f",
   "metadata": {},
   "source": [
    "#####  Why we use lambda functions?"
   ]
  },
  {
   "cell_type": "markdown",
   "id": "bd434c3d",
   "metadata": {},
   "source": [
    "the power of lambda is better utilized as an anonymous function inside another function.\n"
   ]
  },
  {
   "cell_type": "code",
   "execution_count": 7,
   "id": "203a06c7",
   "metadata": {},
   "outputs": [],
   "source": [
    "def power(n):\n",
    "    return lambda a: a^n\n"
   ]
  },
  {
   "cell_type": "code",
   "execution_count": 9,
   "id": "b4a8d5ee",
   "metadata": {},
   "outputs": [
    {
     "name": "stdout",
     "output_type": "stream",
     "text": [
      "15\n"
     ]
    }
   ],
   "source": [
    "w =power(3)\n",
    "print(w(12))"
   ]
  },
  {
   "cell_type": "markdown",
   "id": "233e5962",
   "metadata": {},
   "source": [
    "### Inheritance "
   ]
  },
  {
   "cell_type": "code",
   "execution_count": null,
   "id": "188f5c33",
   "metadata": {},
   "outputs": [],
   "source": [
    "\n"
   ]
  }
 ],
 "metadata": {
  "kernelspec": {
   "display_name": "Python 3",
   "language": "python",
   "name": "python3"
  },
  "language_info": {
   "codemirror_mode": {
    "name": "ipython",
    "version": 3
   },
   "file_extension": ".py",
   "mimetype": "text/x-python",
   "name": "python",
   "nbconvert_exporter": "python",
   "pygments_lexer": "ipython3",
   "version": "3.7.0"
  }
 },
 "nbformat": 4,
 "nbformat_minor": 5
}
