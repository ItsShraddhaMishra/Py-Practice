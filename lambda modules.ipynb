{
 "cells": [
  {
   "cell_type": "markdown",
   "id": "58c0f8ca",
   "metadata": {},
   "source": [
    "### lambda"
   ]
  },
  {
   "cell_type": "code",
   "execution_count": 1,
   "id": "26d0b639",
   "metadata": {},
   "outputs": [],
   "source": [
    "x =lambda a: a+ 10"
   ]
  },
  {
   "cell_type": "code",
   "execution_count": 2,
   "id": "e7d9fa9d",
   "metadata": {},
   "outputs": [
    {
     "name": "stdout",
     "output_type": "stream",
     "text": [
      "15\n"
     ]
    }
   ],
   "source": [
    "print(x(5))"
   ]
  },
  {
   "cell_type": "code",
   "execution_count": 4,
   "id": "ed18fbc4",
   "metadata": {},
   "outputs": [],
   "source": [
    "x= lambda a, b: a*b"
   ]
  },
  {
   "cell_type": "code",
   "execution_count": 5,
   "id": "590b0a1a",
   "metadata": {},
   "outputs": [
    {
     "name": "stdout",
     "output_type": "stream",
     "text": [
      "30\n"
     ]
    }
   ],
   "source": [
    "print(x(5,6))"
   ]
  },
  {
   "cell_type": "code",
   "execution_count": 6,
   "id": "25397a59",
   "metadata": {},
   "outputs": [
    {
     "name": "stdout",
     "output_type": "stream",
     "text": [
      "13\n"
     ]
    }
   ],
   "source": [
    "x = lambda a,b,c: a+b+c\n",
    "print(x(5,6,2))"
   ]
  },
  {
   "cell_type": "markdown",
   "id": "df340db2",
   "metadata": {},
   "source": [
    "#####  Why we use lambda functions?"
   ]
  },
  {
   "cell_type": "markdown",
   "id": "80b3aec2",
   "metadata": {},
   "source": [
    "the power of lambda is better utilized as an anonymous function inside another function.\n"
   ]
  },
  {
   "cell_type": "code",
   "execution_count": 7,
   "id": "c3f83676",
   "metadata": {},
   "outputs": [],
   "source": [
    "def power(n):\n",
    "    return lambda a: a^n\n"
   ]
  },
  {
   "cell_type": "code",
   "execution_count": 9,
   "id": "e361e916",
   "metadata": {},
   "outputs": [
    {
     "name": "stdout",
     "output_type": "stream",
     "text": [
      "15\n"
     ]
    }
   ],
   "source": [
    "w =power(3)\n",
    "print(w(12))"
   ]
  },
  {
   "cell_type": "markdown",
   "id": "e2466a4b",
   "metadata": {},
   "source": [
    "### Inheritance "
   ]
  },
  {
   "cell_type": "code",
   "execution_count": 2,
   "id": "049a5425",
   "metadata": {},
   "outputs": [
    {
     "name": "stdout",
     "output_type": "stream",
     "text": [
      "John Doe\n"
     ]
    }
   ],
   "source": [
    "#Parent class\n",
    "class Person:\n",
    "    def __init__(self, fname, lname):\n",
    "        self.firstname = fname\n",
    "        self.lastname = lname\n",
    "        \n",
    "    def printname(self):               #its aka method\n",
    "        print(self.firstname, self.lastname)\n",
    "\n",
    "# using parent class to create an object and then printing method\n",
    "\n",
    "x= Person(\"John\", \"Doe\")\n",
    "x.printname()"
   ]
  },
  {
   "cell_type": "code",
   "execution_count": null,
   "id": "5b6f928b",
   "metadata": {},
   "outputs": [],
   "source": [
    "#child class\n"
   ]
  }
 ],
 "metadata": {
  "kernelspec": {
   "display_name": "Python 3",
   "language": "python",
   "name": "python3"
  },
  "language_info": {
   "codemirror_mode": {
    "name": "ipython",
    "version": 3
   },
   "file_extension": ".py",
   "mimetype": "text/x-python",
   "name": "python",
   "nbconvert_exporter": "python",
   "pygments_lexer": "ipython3",
   "version": "3.7.0"
  }
 },
 "nbformat": 4,
 "nbformat_minor": 5
}
