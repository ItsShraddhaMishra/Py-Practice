{
 "cells": [
  {
   "cell_type": "markdown",
   "id": "d8b60368",
   "metadata": {},
   "source": [
    "### lambda"
   ]
  },
  {
   "cell_type": "code",
   "execution_count": 1,
   "id": "8d100cec",
   "metadata": {},
   "outputs": [],
   "source": [
    "x =lambda a: a+ 10"
   ]
  },
  {
   "cell_type": "code",
   "execution_count": 2,
   "id": "2a7baf67",
   "metadata": {},
   "outputs": [
    {
     "name": "stdout",
     "output_type": "stream",
     "text": [
      "15\n"
     ]
    }
   ],
   "source": [
    "print(x(5))"
   ]
  },
  {
   "cell_type": "code",
   "execution_count": 4,
   "id": "b9a761af",
   "metadata": {},
   "outputs": [],
   "source": [
    "x= lambda a, b: a*b"
   ]
  },
  {
   "cell_type": "code",
   "execution_count": 5,
   "id": "9d6774f5",
   "metadata": {},
   "outputs": [
    {
     "name": "stdout",
     "output_type": "stream",
     "text": [
      "30\n"
     ]
    }
   ],
   "source": [
    "print(x(5,6))"
   ]
  },
  {
   "cell_type": "code",
   "execution_count": 6,
   "id": "7d16697c",
   "metadata": {},
   "outputs": [
    {
     "name": "stdout",
     "output_type": "stream",
     "text": [
      "13\n"
     ]
    }
   ],
   "source": [
    "x = lambda a,b,c: a+b+c\n",
    "print(x(5,6,2))"
   ]
  },
  {
   "cell_type": "markdown",
   "id": "6092d494",
   "metadata": {},
   "source": [
    "#####  Why we use lambda functions?"
   ]
  },
  {
   "cell_type": "markdown",
   "id": "53bf02fe",
   "metadata": {},
   "source": [
    "the power of lambda is better utilized as an anonymous function inside another function.\n"
   ]
  },
  {
   "cell_type": "code",
   "execution_count": 7,
   "id": "55d485e7",
   "metadata": {},
   "outputs": [],
   "source": [
    "def power(n):\n",
    "    return lambda a: a^n\n"
   ]
  },
  {
   "cell_type": "code",
   "execution_count": 9,
   "id": "038fac86",
   "metadata": {},
   "outputs": [
    {
     "name": "stdout",
     "output_type": "stream",
     "text": [
      "15\n"
     ]
    }
   ],
   "source": [
    "w =power(3)\n",
    "print(w(12))"
   ]
  },
  {
   "cell_type": "markdown",
   "id": "480b04be",
   "metadata": {},
   "source": [
    "### Inheritance "
   ]
  },
  {
   "cell_type": "code",
   "execution_count": 2,
   "id": "9f5a61f8",
   "metadata": {},
   "outputs": [
    {
     "name": "stdout",
     "output_type": "stream",
     "text": [
      "John Doe\n"
     ]
    }
   ],
   "source": [
    "#Parent class\n",
    "class Person:\n",
    "    def __init__(self, fname, lname):\n",
    "        self.firstname = fname\n",
    "        self.lastname = lname\n",
    "        \n",
    "    def printname(self):               #its aka method\n",
    "        print(self.firstname, self.lastname)\n",
    "\n",
    "# using parent class to create an object and then printing method\n",
    "\n",
    "x= Person(\"John\", \"Doe\")\n",
    "x.printname()"
   ]
  },
  {
   "cell_type": "code",
   "execution_count": null,
   "id": "6a01f4c8",
   "metadata": {},
   "outputs": [],
   "source": []
  }
 ],
 "metadata": {
  "kernelspec": {
   "display_name": "Python 3",
   "language": "python",
   "name": "python3"
  },
  "language_info": {
   "codemirror_mode": {
    "name": "ipython",
    "version": 3
   },
   "file_extension": ".py",
   "mimetype": "text/x-python",
   "name": "python",
   "nbconvert_exporter": "python",
   "pygments_lexer": "ipython3",
   "version": "3.7.0"
  }
 },
 "nbformat": 4,
 "nbformat_minor": 5
}
