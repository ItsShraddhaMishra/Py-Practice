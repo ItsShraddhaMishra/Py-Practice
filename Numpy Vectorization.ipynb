{
 "cells": [
  {
   "cell_type": "markdown",
   "id": "94495d06",
   "metadata": {},
   "source": [
    "* Vectorization is converting iterative statements into a vector based operation.\n",
    "* Vectorization in numpy is implemented by ufuncs -\"Universal Functions\".\n",
    "* vectorization is way faster than iterating over elements.\n",
    "* they ALso provide broadcasting and additional methods like reduce, accumulate , etc. that are very helpful for computation.\n"
   ]
  },
  {
   "cell_type": "markdown",
   "id": "a9f72f95",
   "metadata": {},
   "source": [
    "### Add the Elements of Two Lists "
   ]
  },
  {
   "cell_type": "markdown",
   "id": "0209d348",
   "metadata": {},
   "source": [
    "iterate over both of the lists and then sum each elements"
   ]
  },
  {
   "cell_type": "code",
   "execution_count": 1,
   "id": "47df1539",
   "metadata": {},
   "outputs": [
    {
     "name": "stdout",
     "output_type": "stream",
     "text": [
      "[5, 7, 9, 11]\n"
     ]
    }
   ],
   "source": [
    "a = [1, 2, 3, 4]\n",
    "b = [4, 5, 6, 7]\n",
    "z = []\n",
    "\n",
    "for i, j in zip(a,b):\n",
    "    z.append(i+j)\n",
    "print(z)"
   ]
  },
  {
   "cell_type": "markdown",
   "id": "c5473219",
   "metadata": {},
   "source": [
    "#### Simple Arithmatic functions"
   ]
  },
  {
   "cell_type": "markdown",
   "id": "bbe75421",
   "metadata": {},
   "source": [
    "* add()\n",
    "* substract()\n",
    "* multiply()\n",
    "* divide()\n",
    "* power()\n",
    "* mod() / remainder()\n",
    "* divmod()\n",
    "* absolute() / abs()\n",
    "* "
   ]
  }
 ],
 "metadata": {
  "kernelspec": {
   "display_name": "Python 3 (ipykernel)",
   "language": "python",
   "name": "python3"
  },
  "language_info": {
   "codemirror_mode": {
    "name": "ipython",
    "version": 3
   },
   "file_extension": ".py",
   "mimetype": "text/x-python",
   "name": "python",
   "nbconvert_exporter": "python",
   "pygments_lexer": "ipython3",
   "version": "3.7.11"
  }
 },
 "nbformat": 4,
 "nbformat_minor": 5
}
